{
 "cells": [
  {
   "cell_type": "code",
   "execution_count": 1,
   "id": "d6408207",
   "metadata": {},
   "outputs": [],
   "source": [
    "import json\n",
    "import numpy as np\n",
    "import pandas as pd"
   ]
  },
  {
   "cell_type": "code",
   "execution_count": 2,
   "id": "51c7fc53",
   "metadata": {},
   "outputs": [],
   "source": [
    "def load_data(file_path):\n",
    "    with open(file_path, 'r', encoding='utf-8') as file:\n",
    "        data = [json.loads(line) for line in file]\n",
    "    return data"
   ]
  },
  {
   "cell_type": "code",
   "execution_count": 3,
   "id": "08baa191",
   "metadata": {},
   "outputs": [],
   "source": [
    "train_path = \"rl-sentence-compression/data/train-data/gigaword/train.jsonl\"\n",
    "val_path = \"rl-sentence-compression/data/train-data/gigaword/val.jsonl\"\n",
    "test_path = \"rl-sentence-compression/data/test-data/gigaword.jsonl\""
   ]
  },
  {
   "cell_type": "code",
   "execution_count": 4,
   "id": "ec7fb94a",
   "metadata": {},
   "outputs": [],
   "source": [
    "train_data = load_data(train_path)\n",
    "val_data = load_data(val_path)\n",
    "test_data = load_data(test_path)"
   ]
  },
  {
   "cell_type": "code",
   "execution_count": 5,
   "id": "d2476360",
   "metadata": {},
   "outputs": [
    {
     "name": "stdout",
     "output_type": "stream",
     "text": [
      "1000000\n",
      "189651\n",
      "1951\n"
     ]
    }
   ],
   "source": [
    "print(len(train_data))\n",
    "print(len(val_data))\n",
    "print(len(test_data))"
   ]
  },
  {
   "cell_type": "code",
   "execution_count": 6,
   "id": "7fb6dcc2",
   "metadata": {},
   "outputs": [],
   "source": [
    "train_data = train_data[0:10000]\n",
    "val_data   = val_data[0:10000]\n",
    "test_data = test_data[0:20]"
   ]
  },
  {
   "cell_type": "code",
   "execution_count": 7,
   "id": "ab78300c",
   "metadata": {},
   "outputs": [
    {
     "name": "stdout",
     "output_type": "stream",
     "text": [
      "10000\n",
      "10000\n",
      "20\n"
     ]
    }
   ],
   "source": [
    "print(len(train_data))\n",
    "print(len(val_data))\n",
    "print(len(test_data))"
   ]
  },
  {
   "cell_type": "code",
   "execution_count": 8,
   "id": "6f64ca3b",
   "metadata": {},
   "outputs": [],
   "source": [
    "def remove_id(data):\n",
    "    updated_data = []\n",
    "    for item in data:\n",
    "        updated_item = {key:value for key,value in item.items() if key != \"id\"}\n",
    "        updated_data.append(updated_item)\n",
    "    return updated_data"
   ]
  },
  {
   "cell_type": "code",
   "execution_count": 9,
   "id": "8b6891d6",
   "metadata": {},
   "outputs": [],
   "source": [
    "train_data = remove_id(train_data)\n",
    "test_data = remove_id(test_data)\n",
    "val_data = remove_id(val_data)"
   ]
  },
  {
   "cell_type": "code",
   "execution_count": 10,
   "id": "1e4d6ebc",
   "metadata": {},
   "outputs": [],
   "source": [
    "train_df = pd.DataFrame(train_data)\n",
    "val_df   = pd.DataFrame(val_data)\n",
    "test_df  = pd.DataFrame(test_data)"
   ]
  },
  {
   "cell_type": "code",
   "execution_count": 11,
   "id": "4be6eade",
   "metadata": {},
   "outputs": [
    {
     "data": {
      "text/html": [
       "<div>\n",
       "<style scoped>\n",
       "    .dataframe tbody tr th:only-of-type {\n",
       "        vertical-align: middle;\n",
       "    }\n",
       "\n",
       "    .dataframe tbody tr th {\n",
       "        vertical-align: top;\n",
       "    }\n",
       "\n",
       "    .dataframe thead th {\n",
       "        text-align: right;\n",
       "    }\n",
       "</style>\n",
       "<table border=\"1\" class=\"dataframe\">\n",
       "  <thead>\n",
       "    <tr style=\"text-align: right;\">\n",
       "      <th></th>\n",
       "      <th>text</th>\n",
       "      <th>summary</th>\n",
       "    </tr>\n",
       "  </thead>\n",
       "  <tbody>\n",
       "    <tr>\n",
       "      <th>0</th>\n",
       "      <td>australia 's current account deficit shrunk by...</td>\n",
       "      <td>australian current account deficit narrows sha...</td>\n",
       "    </tr>\n",
       "    <tr>\n",
       "      <th>1</th>\n",
       "      <td>at least two people were killed in a suspected...</td>\n",
       "      <td>at least two dead in southern philippines blast</td>\n",
       "    </tr>\n",
       "    <tr>\n",
       "      <th>2</th>\n",
       "      <td>australian shares closed down #.# percent mond...</td>\n",
       "      <td>australian stocks close down #.# percent</td>\n",
       "    </tr>\n",
       "    <tr>\n",
       "      <th>3</th>\n",
       "      <td>south korea 's nuclear envoy kim sook urged no...</td>\n",
       "      <td>envoy urges north korea to restart nuclear dis...</td>\n",
       "    </tr>\n",
       "    <tr>\n",
       "      <th>4</th>\n",
       "      <td>south korea on monday announced sweeping tax r...</td>\n",
       "      <td>skorea announces tax cuts to stimulate economy</td>\n",
       "    </tr>\n",
       "  </tbody>\n",
       "</table>\n",
       "</div>"
      ],
      "text/plain": [
       "                                                text  \\\n",
       "0  australia 's current account deficit shrunk by...   \n",
       "1  at least two people were killed in a suspected...   \n",
       "2  australian shares closed down #.# percent mond...   \n",
       "3  south korea 's nuclear envoy kim sook urged no...   \n",
       "4  south korea on monday announced sweeping tax r...   \n",
       "\n",
       "                                             summary  \n",
       "0  australian current account deficit narrows sha...  \n",
       "1    at least two dead in southern philippines blast  \n",
       "2           australian stocks close down #.# percent  \n",
       "3  envoy urges north korea to restart nuclear dis...  \n",
       "4     skorea announces tax cuts to stimulate economy  "
      ]
     },
     "execution_count": 11,
     "metadata": {},
     "output_type": "execute_result"
    }
   ],
   "source": [
    "train_df.head()"
   ]
  },
  {
   "cell_type": "code",
   "execution_count": 12,
   "id": "98b3be5b",
   "metadata": {},
   "outputs": [],
   "source": [
    "test_df.rename(columns = {'summaries':'summary'}, inplace = True) "
   ]
  },
  {
   "cell_type": "code",
   "execution_count": 13,
   "id": "5e336c2e",
   "metadata": {},
   "outputs": [
    {
     "name": "stdout",
     "output_type": "stream",
     "text": [
      "<class 'str'>\n",
      "<class 'list'>\n"
     ]
    },
    {
     "data": {
      "text/html": [
       "<div>\n",
       "<style scoped>\n",
       "    .dataframe tbody tr th:only-of-type {\n",
       "        vertical-align: middle;\n",
       "    }\n",
       "\n",
       "    .dataframe tbody tr th {\n",
       "        vertical-align: top;\n",
       "    }\n",
       "\n",
       "    .dataframe thead th {\n",
       "        text-align: right;\n",
       "    }\n",
       "</style>\n",
       "<table border=\"1\" class=\"dataframe\">\n",
       "  <thead>\n",
       "    <tr style=\"text-align: right;\">\n",
       "      <th></th>\n",
       "      <th>text</th>\n",
       "      <th>summary</th>\n",
       "    </tr>\n",
       "  </thead>\n",
       "  <tbody>\n",
       "    <tr>\n",
       "      <th>0</th>\n",
       "      <td>japan 's nec corp. and UNK computer corp. of t...</td>\n",
       "      <td>nec UNK in computer sales tie-up</td>\n",
       "    </tr>\n",
       "    <tr>\n",
       "      <th>1</th>\n",
       "      <td>the sri lankan government on wednesday announc...</td>\n",
       "      <td>sri lanka closes schools as war escalates</td>\n",
       "    </tr>\n",
       "  </tbody>\n",
       "</table>\n",
       "</div>"
      ],
      "text/plain": [
       "                                                text  \\\n",
       "0  japan 's nec corp. and UNK computer corp. of t...   \n",
       "1  the sri lankan government on wednesday announc...   \n",
       "\n",
       "                                     summary  \n",
       "0           nec UNK in computer sales tie-up  \n",
       "1  sri lanka closes schools as war escalates  "
      ]
     },
     "execution_count": 13,
     "metadata": {},
     "output_type": "execute_result"
    }
   ],
   "source": [
    "print(type(test_df['text'][0]))\n",
    "print(type(test_df['summary'][0]))\n",
    "test_df['summary'] = test_df['summary'].str[0].astype(str)\n",
    "test_df.head(2)"
   ]
  },
  {
   "cell_type": "code",
   "execution_count": 14,
   "id": "4357090c",
   "metadata": {},
   "outputs": [],
   "source": [
    "def is_integer(value):\n",
    "    try:\n",
    "        int(value)\n",
    "        return True\n",
    "    except ValueError:\n",
    "        return False"
   ]
  },
  {
   "cell_type": "code",
   "execution_count": 15,
   "id": "8feb9386",
   "metadata": {},
   "outputs": [],
   "source": [
    "for index, row in train_df.iterrows():\n",
    "    if any(is_integer(value) for value in row):\n",
    "        train_df.drop(index, inplace=True)"
   ]
  },
  {
   "cell_type": "code",
   "execution_count": 16,
   "id": "09f1306f",
   "metadata": {},
   "outputs": [],
   "source": [
    "for index, row in val_df.iterrows():\n",
    "    if any(is_integer(value) for value in row):\n",
    "        val_df.drop(index, inplace=True)"
   ]
  },
  {
   "cell_type": "code",
   "execution_count": 17,
   "id": "6a66a9ed",
   "metadata": {},
   "outputs": [],
   "source": [
    "for index, row in test_df.iterrows():\n",
    "    if any(is_integer(value) for value in row):\n",
    "        test_df.drop(index, inplace=True)"
   ]
  },
  {
   "cell_type": "code",
   "execution_count": 18,
   "id": "3c08047d",
   "metadata": {},
   "outputs": [],
   "source": [
    "train_df.reset_index(drop=True, inplace=True)\n",
    "val_df.reset_index(drop=True, inplace=True)\n",
    "test_df.reset_index(drop=True, inplace=True)"
   ]
  },
  {
   "cell_type": "code",
   "execution_count": 19,
   "id": "85c894bf",
   "metadata": {},
   "outputs": [],
   "source": [
    "train_df = train_df.head(2000)\n",
    "val_df   = val_df.head(2000)\n",
    "test_df  = test_df.head(10)"
   ]
  },
  {
   "cell_type": "code",
   "execution_count": 20,
   "id": "c3a69590",
   "metadata": {},
   "outputs": [],
   "source": [
    "# Preprocessing: Clean text data\n",
    "def clean_text(df):\n",
    "    for col in df.columns:\n",
    "        df[col] = df[col].str.lower()\n",
    "        df[col] = df[col].str.lstrip().str.rstrip()\n",
    "        df[col] = df[col].str.replace(r'[^\\w\\s]+', '')\n",
    "    return df"
   ]
  },
  {
   "cell_type": "code",
   "execution_count": 21,
   "id": "369897b8",
   "metadata": {},
   "outputs": [
    {
     "name": "stderr",
     "output_type": "stream",
     "text": [
      "C:\\Users\\Rhea Pandita\\AppData\\Local\\Temp\\ipykernel_20252\\2171058854.py:6: FutureWarning: The default value of regex will change from True to False in a future version.\n",
      "  df[col] = df[col].str.replace(r'[^\\w\\s]+', '')\n"
     ]
    }
   ],
   "source": [
    "train_df = clean_text(train_df)\n",
    "val_df = clean_text(val_df)\n",
    "test_df = clean_text(test_df)"
   ]
  },
  {
   "cell_type": "code",
   "execution_count": null,
   "id": "b9579c45",
   "metadata": {},
   "outputs": [],
   "source": []
  },
  {
   "cell_type": "code",
   "execution_count": 22,
   "id": "2008a63c",
   "metadata": {},
   "outputs": [],
   "source": [
    "from transformers import BertTokenizer, BertModel\n",
    "import tensorflow as tf"
   ]
  },
  {
   "cell_type": "code",
   "execution_count": 23,
   "id": "1bd1e312",
   "metadata": {},
   "outputs": [],
   "source": [
    "# Maximum sentence length (word count)\n",
    "max_len_word = 150"
   ]
  },
  {
   "cell_type": "code",
   "execution_count": 24,
   "id": "144c7b30",
   "metadata": {},
   "outputs": [],
   "source": [
    "# Load BERT tokenizer\n",
    "tokenizer = BertTokenizer.from_pretrained('bert-base-uncased')"
   ]
  },
  {
   "cell_type": "code",
   "execution_count": 25,
   "id": "9215f68f",
   "metadata": {},
   "outputs": [],
   "source": [
    "bert_model = BertModel.from_pretrained('bert-base-uncased')"
   ]
  },
  {
   "cell_type": "code",
   "execution_count": 26,
   "id": "1602b6d1",
   "metadata": {},
   "outputs": [
    {
     "data": {
      "text/plain": [
       "'cuda'"
      ]
     },
     "execution_count": 26,
     "metadata": {},
     "output_type": "execute_result"
    }
   ],
   "source": [
    "import torch\n",
    "device = \"cuda\" if torch.cuda.is_available() else \"cpu\"\n",
    "device"
   ]
  },
  {
   "cell_type": "code",
   "execution_count": 27,
   "id": "5a326b07",
   "metadata": {},
   "outputs": [],
   "source": [
    "# Encode sentences using BERT\n",
    "def encode_sentences(sentences):\n",
    "    #print(sentences)\n",
    "    encoding = tokenizer.batch_encode_plus(sentences,\n",
    "                                           padding=True,\n",
    "                                           truncation=True,\n",
    "                                           return_tensors='pt',\n",
    "                                           add_special_tokens=True)\n",
    "    input_ids = encoding['input_ids']\n",
    "    attention_mask = encoding['attention_mask']\n",
    "    with torch.no_grad():\n",
    "        outputs = bert_model(input_ids, attention_mask=attention_mask)\n",
    "        word_embeddings = outputs.last_hidden_state \n",
    "    return word_embeddings,input_ids"
   ]
  },
  {
   "cell_type": "code",
   "execution_count": 28,
   "id": "54ea6980",
   "metadata": {},
   "outputs": [],
   "source": [
    "# Encode text data\n",
    "text_embeddings_train_bert, train_ids= encode_sentences(train_df['text'])"
   ]
  },
  {
   "cell_type": "code",
   "execution_count": 29,
   "id": "50c16081",
   "metadata": {},
   "outputs": [],
   "source": [
    "text_embeddings_val_bert, val_ids= encode_sentences(val_df['text'])"
   ]
  },
  {
   "cell_type": "code",
   "execution_count": 30,
   "id": "1b2f6b19",
   "metadata": {},
   "outputs": [],
   "source": [
    "text_embeddings_test_bert, test_ids= encode_sentences(test_df['text'])"
   ]
  },
  {
   "cell_type": "code",
   "execution_count": 31,
   "id": "3ad75320",
   "metadata": {},
   "outputs": [],
   "source": [
    "# Encode summary data\n",
    "summary_embeddings_train_bert,s_train_id= encode_sentences(train_df['summary'])"
   ]
  },
  {
   "cell_type": "code",
   "execution_count": 32,
   "id": "a32bdfce",
   "metadata": {},
   "outputs": [],
   "source": [
    "summary_embeddings_val_bert,s_val_id= encode_sentences(val_df['summary'])"
   ]
  },
  {
   "cell_type": "code",
   "execution_count": 33,
   "id": "8a53c11d",
   "metadata": {},
   "outputs": [],
   "source": [
    "summary_embeddings_test_bert,s_test_id = encode_sentences(test_df['summary'])"
   ]
  },
  {
   "cell_type": "code",
   "execution_count": 34,
   "id": "71aa78a1",
   "metadata": {},
   "outputs": [],
   "source": [
    "from tensorflow.keras.preprocessing.sequence import pad_sequences\n",
    "\n",
    "# Padding length\n",
    "max_sequence_length = 150\n",
    "max_sequence_length2 = 10\n",
    "\n",
    "# Pad the sequences to ensure consistent length\n",
    "text_embeddings_train_bert = pad_sequences(text_embeddings_train_bert, maxlen=max_sequence_length, padding='post')\n",
    "text_embeddings_val_bert = pad_sequences(text_embeddings_val_bert, maxlen=max_sequence_length, padding='post')\n",
    "text_embeddings_test_bert = pad_sequences(text_embeddings_test_bert, maxlen=max_sequence_length, padding='post')\n",
    "\n",
    "summary_embeddings_train_bert = pad_sequences(summary_embeddings_train_bert, maxlen=max_sequence_length2, padding='post')\n",
    "summary_embeddings_val_bert = pad_sequences(summary_embeddings_val_bert, maxlen=max_sequence_length2, padding='post')\n",
    "summary_embeddings_test_bert = pad_sequences(summary_embeddings_test_bert, maxlen=max_sequence_length2, padding='post')\n",
    "\n",
    "# Pad the sequences to ensure consistent length\n",
    "s_train_id = pad_sequences(s_train_id, maxlen=max_sequence_length2, padding='post')\n",
    "s_val_id = pad_sequences(s_val_id, maxlen=max_sequence_length2, padding='post')\n",
    "s_test_id = pad_sequences(s_test_id, maxlen=max_sequence_length2, padding='post')\n",
    "\n",
    "train_ids = pad_sequences(train_ids, maxlen=max_sequence_length, padding='post')\n",
    "val_ids = pad_sequences(val_ids, maxlen=max_sequence_length, padding='post')\n",
    "test_ids = pad_sequences(test_ids, maxlen=max_sequence_length, padding='post')\n"
   ]
  },
  {
   "cell_type": "code",
   "execution_count": 35,
   "id": "748731a2",
   "metadata": {},
   "outputs": [
    {
     "name": "stdout",
     "output_type": "stream",
     "text": [
      "(2000, 150, 768)\n",
      "(2000, 150, 768)\n",
      "(10, 150, 768)\n",
      "(2000, 10, 768)\n",
      "(2000, 10, 768)\n",
      "(10, 10, 768)\n",
      "(2000, 150)\n",
      "(2000, 150)\n",
      "(10, 150)\n",
      "(2000, 10)\n",
      "(2000, 10)\n",
      "(10, 10)\n"
     ]
    }
   ],
   "source": [
    "print(text_embeddings_train_bert.shape)\n",
    "print(text_embeddings_val_bert.shape)\n",
    "print(text_embeddings_test_bert.shape)\n",
    "\n",
    "print(summary_embeddings_train_bert.shape)\n",
    "print(summary_embeddings_val_bert.shape)\n",
    "print(summary_embeddings_test_bert.shape)\n",
    "\n",
    "print(train_ids.shape)\n",
    "print(val_ids.shape)\n",
    "print(test_ids.shape)\n",
    "\n",
    "print(s_train_id.shape)\n",
    "print(s_val_id.shape)\n",
    "print(s_test_id.shape)"
   ]
  },
  {
   "cell_type": "code",
   "execution_count": 36,
   "id": "f45f2a81",
   "metadata": {},
   "outputs": [],
   "source": [
    "# Tokenize text and summary data\n",
    "def tokenize_text(text, max_length):\n",
    "    tokens = tokenizer(text, max_length=max_length, padding=\"max_length\", \n",
    "                       truncation=True, return_tensors='tf')\n",
    "    return tokens['attention_mask']\n"
   ]
  },
  {
   "cell_type": "code",
   "execution_count": 37,
   "id": "4b3c2413",
   "metadata": {},
   "outputs": [],
   "source": [
    "# Tokenize text data\n",
    "text_train_mask = tokenize_text(train_df['text'].tolist(), max_len_word)\n",
    "text_val_mask   = tokenize_text(val_df['text'].tolist(), max_len_word)\n",
    "text_test_mask  = tokenize_text(test_df['text'].tolist(), max_len_word)"
   ]
  },
  {
   "cell_type": "code",
   "execution_count": 38,
   "id": "9e873e6d",
   "metadata": {},
   "outputs": [],
   "source": [
    "# Tokenize text data\n",
    "summary_train_mask = tokenize_text(train_df['summary'].tolist(), max_len_word)\n",
    "summary_val_mask = tokenize_text(val_df['summary'].tolist(), max_len_word)\n",
    "summary_test_mask = tokenize_text(test_df['summary'].tolist(), max_len_word)"
   ]
  },
  {
   "cell_type": "code",
   "execution_count": 39,
   "id": "8a577fc9",
   "metadata": {},
   "outputs": [],
   "source": [
    "# Define input shape for text and summary inputs\n",
    "max_sequence_length = 150\n",
    "max_sequence_length2 = 10\n",
    "input_shape = (max_sequence_length, 768)\n",
    "summary_shape = (max_sequence_length2, 768)"
   ]
  },
  {
   "cell_type": "code",
   "execution_count": 40,
   "id": "6c6995fd",
   "metadata": {},
   "outputs": [],
   "source": [
    "# Define input layers for text and summary inputs\n",
    "from tensorflow.keras.layers import Input, Dropout, Dense, Flatten\n",
    "from tensorflow.keras.layers import Concatenate, Lambda, LayerNormalization\n",
    "from tensorflow.keras.models import Model\n",
    "text_input = Input(shape=input_shape)\n",
    "summary_input = Input(shape=summary_shape)"
   ]
  },
  {
   "cell_type": "code",
   "execution_count": 41,
   "id": "68618bde",
   "metadata": {},
   "outputs": [
    {
     "name": "stdout",
     "output_type": "stream",
     "text": [
      "(None, 150, 768)\n",
      "(None, 10, 768)\n"
     ]
    }
   ],
   "source": [
    "print(text_input.shape)\n",
    "print(summary_input.shape)"
   ]
  },
  {
   "cell_type": "code",
   "execution_count": 42,
   "id": "b7e47a41",
   "metadata": {},
   "outputs": [],
   "source": [
    "# Define layer groups\n",
    "for _ in range(24):\n",
    "    # Self-attention layer\n",
    "    self_attention = tf.keras.layers.MultiHeadAttention(num_heads=8, key_dim=64)(\n",
    "        query=text_input, value=text_input, attention_mask=text_train_mask)\n",
    "    self_attention = LayerNormalization()(self_attention + text_input)\n",
    "    self_attention = Dropout(0.1)(self_attention)\n",
    "\n",
    "    # Feed forward layer\n",
    "    feed_forward = Dense(200, activation='relu')(self_attention)\n",
    "    feed_forward = LayerNormalization()(feed_forward)  # Add LayerNormalization\n",
    "    feed_forward = Dense(768)(feed_forward)\n",
    "    feed_forward = LayerNormalization()(feed_forward)  # Add LayerNormalization\n",
    "    feed_forward = Dropout(0.1)(feed_forward)\n",
    "\n",
    "    # Update text embeddings\n",
    "    text_input = feed_forward"
   ]
  },
  {
   "cell_type": "markdown",
   "id": "5cc0df8c",
   "metadata": {},
   "source": [
    "print(merged_embeddings.shape)"
   ]
  },
  {
   "cell_type": "code",
   "execution_count": 43,
   "id": "2dd2e541",
   "metadata": {},
   "outputs": [],
   "source": [
    "# Final layers\n",
    "for _ in range(3):\n",
    "    text_input = Dense(768, activation=\"sigmoid\")(text_input)\n",
    "    text_input = LayerNormalization()(text_input)  # Add LayerNormalization\n",
    "    text_input = Dropout(0.1)(text_input)"
   ]
  },
  {
   "cell_type": "code",
   "execution_count": 44,
   "id": "7e109ffe",
   "metadata": {},
   "outputs": [],
   "source": [
    "output = Dense(768)(text_input)"
   ]
  },
  {
   "cell_type": "code",
   "execution_count": 45,
   "id": "cd9ceb19",
   "metadata": {},
   "outputs": [
    {
     "name": "stdout",
     "output_type": "stream",
     "text": [
      "(None, 150, 768)\n"
     ]
    }
   ],
   "source": [
    "print(output.shape)"
   ]
  },
  {
   "cell_type": "code",
   "execution_count": 46,
   "id": "905e9ec0",
   "metadata": {},
   "outputs": [],
   "source": [
    "# Compile the model\n",
    "model = Model(inputs=text_input, outputs=output)"
   ]
  },
  {
   "cell_type": "code",
   "execution_count": 47,
   "id": "be7941fc",
   "metadata": {},
   "outputs": [],
   "source": [
    "from tensorflow.keras.optimizers import Adam\n",
    "from tensorflow.keras.losses import binary_crossentropy\n",
    "#optimizer = Adam(learning_rate=0.001, epsilon=1e-8)\n",
    "optimizer = Adam(learning_rate=0.0001)"
   ]
  },
  {
   "cell_type": "code",
   "execution_count": 48,
   "id": "5959699a",
   "metadata": {},
   "outputs": [
    {
     "data": {
      "text/html": [
       "<pre style=\"white-space:pre;overflow-x:auto;line-height:normal;font-family:Menlo,'DejaVu Sans Mono',consolas,'Courier New',monospace\"><span style=\"font-weight: bold\">Model: \"functional_1\"</span>\n",
       "</pre>\n"
      ],
      "text/plain": [
       "\u001b[1mModel: \"functional_1\"\u001b[0m\n"
      ]
     },
     "metadata": {},
     "output_type": "display_data"
    },
    {
     "data": {
      "text/html": [
       "<pre style=\"white-space:pre;overflow-x:auto;line-height:normal;font-family:Menlo,'DejaVu Sans Mono',consolas,'Courier New',monospace\">┏━━━━━━━━━━━━━━━━━━━━━━━━━━━━━━━━━━━━━━┳━━━━━━━━━━━━━━━━━━━━━━━━━━━━━┳━━━━━━━━━━━━━━━━━┓\n",
       "┃<span style=\"font-weight: bold\"> Layer (type)                         </span>┃<span style=\"font-weight: bold\"> Output Shape                </span>┃<span style=\"font-weight: bold\">         Param # </span>┃\n",
       "┡━━━━━━━━━━━━━━━━━━━━━━━━━━━━━━━━━━━━━━╇━━━━━━━━━━━━━━━━━━━━━━━━━━━━━╇━━━━━━━━━━━━━━━━━┩\n",
       "│ keras_tensor_226CLONE (<span style=\"color: #0087ff; text-decoration-color: #0087ff\">InputLayer</span>)   │ (<span style=\"color: #00d7ff; text-decoration-color: #00d7ff\">None</span>, <span style=\"color: #00af00; text-decoration-color: #00af00\">150</span>, <span style=\"color: #00af00; text-decoration-color: #00af00\">768</span>)            │               <span style=\"color: #00af00; text-decoration-color: #00af00\">0</span> │\n",
       "├──────────────────────────────────────┼─────────────────────────────┼─────────────────┤\n",
       "│ dense_51 (<span style=\"color: #0087ff; text-decoration-color: #0087ff\">Dense</span>)                     │ (<span style=\"color: #00d7ff; text-decoration-color: #00d7ff\">None</span>, <span style=\"color: #00af00; text-decoration-color: #00af00\">150</span>, <span style=\"color: #00af00; text-decoration-color: #00af00\">768</span>)            │         <span style=\"color: #00af00; text-decoration-color: #00af00\">590,592</span> │\n",
       "└──────────────────────────────────────┴─────────────────────────────┴─────────────────┘\n",
       "</pre>\n"
      ],
      "text/plain": [
       "┏━━━━━━━━━━━━━━━━━━━━━━━━━━━━━━━━━━━━━━┳━━━━━━━━━━━━━━━━━━━━━━━━━━━━━┳━━━━━━━━━━━━━━━━━┓\n",
       "┃\u001b[1m \u001b[0m\u001b[1mLayer (type)                        \u001b[0m\u001b[1m \u001b[0m┃\u001b[1m \u001b[0m\u001b[1mOutput Shape               \u001b[0m\u001b[1m \u001b[0m┃\u001b[1m \u001b[0m\u001b[1m        Param #\u001b[0m\u001b[1m \u001b[0m┃\n",
       "┡━━━━━━━━━━━━━━━━━━━━━━━━━━━━━━━━━━━━━━╇━━━━━━━━━━━━━━━━━━━━━━━━━━━━━╇━━━━━━━━━━━━━━━━━┩\n",
       "│ keras_tensor_226CLONE (\u001b[38;5;33mInputLayer\u001b[0m)   │ (\u001b[38;5;45mNone\u001b[0m, \u001b[38;5;34m150\u001b[0m, \u001b[38;5;34m768\u001b[0m)            │               \u001b[38;5;34m0\u001b[0m │\n",
       "├──────────────────────────────────────┼─────────────────────────────┼─────────────────┤\n",
       "│ dense_51 (\u001b[38;5;33mDense\u001b[0m)                     │ (\u001b[38;5;45mNone\u001b[0m, \u001b[38;5;34m150\u001b[0m, \u001b[38;5;34m768\u001b[0m)            │         \u001b[38;5;34m590,592\u001b[0m │\n",
       "└──────────────────────────────────────┴─────────────────────────────┴─────────────────┘\n"
      ]
     },
     "metadata": {},
     "output_type": "display_data"
    },
    {
     "data": {
      "text/html": [
       "<pre style=\"white-space:pre;overflow-x:auto;line-height:normal;font-family:Menlo,'DejaVu Sans Mono',consolas,'Courier New',monospace\"><span style=\"font-weight: bold\"> Total params: </span><span style=\"color: #00af00; text-decoration-color: #00af00\">590,592</span> (2.25 MB)\n",
       "</pre>\n"
      ],
      "text/plain": [
       "\u001b[1m Total params: \u001b[0m\u001b[38;5;34m590,592\u001b[0m (2.25 MB)\n"
      ]
     },
     "metadata": {},
     "output_type": "display_data"
    },
    {
     "data": {
      "text/html": [
       "<pre style=\"white-space:pre;overflow-x:auto;line-height:normal;font-family:Menlo,'DejaVu Sans Mono',consolas,'Courier New',monospace\"><span style=\"font-weight: bold\"> Trainable params: </span><span style=\"color: #00af00; text-decoration-color: #00af00\">590,592</span> (2.25 MB)\n",
       "</pre>\n"
      ],
      "text/plain": [
       "\u001b[1m Trainable params: \u001b[0m\u001b[38;5;34m590,592\u001b[0m (2.25 MB)\n"
      ]
     },
     "metadata": {},
     "output_type": "display_data"
    },
    {
     "data": {
      "text/html": [
       "<pre style=\"white-space:pre;overflow-x:auto;line-height:normal;font-family:Menlo,'DejaVu Sans Mono',consolas,'Courier New',monospace\"><span style=\"font-weight: bold\"> Non-trainable params: </span><span style=\"color: #00af00; text-decoration-color: #00af00\">0</span> (0.00 B)\n",
       "</pre>\n"
      ],
      "text/plain": [
       "\u001b[1m Non-trainable params: \u001b[0m\u001b[38;5;34m0\u001b[0m (0.00 B)\n"
      ]
     },
     "metadata": {},
     "output_type": "display_data"
    }
   ],
   "source": [
    "# Compile the model with the target tensors\n",
    "model.compile(optimizer=optimizer, loss=\"mean_squared_error\", metrics=['mean_squared_error'])\n",
    "model.summary()"
   ]
  },
  {
   "cell_type": "code",
   "execution_count": 49,
   "id": "0c7e1d71",
   "metadata": {},
   "outputs": [
    {
     "name": "stdout",
     "output_type": "stream",
     "text": [
      "Epoch 1/15\n"
     ]
    },
    {
     "ename": "ValueError",
     "evalue": "Dimensions must be equal, but are 10 and 150 for '{{node compile_loss/mean_squared_error/sub}} = Sub[T=DT_FLOAT](compile_loss/mean_squared_error/Cast, functional_1_1/dense_51_1/Add)' with input shapes: [?,10,768], [?,150,768].",
     "output_type": "error",
     "traceback": [
      "\u001b[1;31m---------------------------------------------------------------------------\u001b[0m",
      "\u001b[1;31mValueError\u001b[0m                                Traceback (most recent call last)",
      "Cell \u001b[1;32mIn[49], line 2\u001b[0m\n\u001b[0;32m      1\u001b[0m \u001b[38;5;66;03m# Train the model using the target tensors\u001b[39;00m\n\u001b[1;32m----> 2\u001b[0m \u001b[43mmodel\u001b[49m\u001b[38;5;241;43m.\u001b[39;49m\u001b[43mfit\u001b[49m\u001b[43m(\u001b[49m\u001b[43mtext_embeddings_train_bert\u001b[49m\u001b[43m,\u001b[49m\u001b[43m \u001b[49m\u001b[43msummary_embeddings_train_bert\u001b[49m\u001b[43m,\u001b[49m\u001b[43m \u001b[49m\n\u001b[0;32m      3\u001b[0m \u001b[43m          \u001b[49m\u001b[43mvalidation_data\u001b[49m\u001b[38;5;241;43m=\u001b[39;49m\u001b[43m(\u001b[49m\u001b[43mtext_embeddings_val_bert\u001b[49m\u001b[43m,\u001b[49m\u001b[43msummary_embeddings_val_bert\u001b[49m\u001b[43m)\u001b[49m\u001b[43m,\u001b[49m\n\u001b[0;32m      4\u001b[0m \u001b[43m          \u001b[49m\u001b[43mepochs\u001b[49m\u001b[38;5;241;43m=\u001b[39;49m\u001b[38;5;241;43m15\u001b[39;49m\u001b[43m,\u001b[49m\u001b[43m \u001b[49m\u001b[43mbatch_size\u001b[49m\u001b[38;5;241;43m=\u001b[39;49m\u001b[38;5;241;43m64\u001b[39;49m\u001b[43m)\u001b[49m\n",
      "File \u001b[1;32m~\\anaconda3\\lib\\site-packages\\keras\\src\\utils\\traceback_utils.py:122\u001b[0m, in \u001b[0;36mfilter_traceback.<locals>.error_handler\u001b[1;34m(*args, **kwargs)\u001b[0m\n\u001b[0;32m    119\u001b[0m     filtered_tb \u001b[38;5;241m=\u001b[39m _process_traceback_frames(e\u001b[38;5;241m.\u001b[39m__traceback__)\n\u001b[0;32m    120\u001b[0m     \u001b[38;5;66;03m# To get the full stack trace, call:\u001b[39;00m\n\u001b[0;32m    121\u001b[0m     \u001b[38;5;66;03m# `keras.config.disable_traceback_filtering()`\u001b[39;00m\n\u001b[1;32m--> 122\u001b[0m     \u001b[38;5;28;01mraise\u001b[39;00m e\u001b[38;5;241m.\u001b[39mwith_traceback(filtered_tb) \u001b[38;5;28;01mfrom\u001b[39;00m \u001b[38;5;28;01mNone\u001b[39;00m\n\u001b[0;32m    123\u001b[0m \u001b[38;5;28;01mfinally\u001b[39;00m:\n\u001b[0;32m    124\u001b[0m     \u001b[38;5;28;01mdel\u001b[39;00m filtered_tb\n",
      "File \u001b[1;32m~\\anaconda3\\lib\\site-packages\\keras\\src\\losses\\losses.py:1154\u001b[0m, in \u001b[0;36mmean_squared_error\u001b[1;34m(y_true, y_pred)\u001b[0m\n\u001b[0;32m   1152\u001b[0m y_true \u001b[38;5;241m=\u001b[39m ops\u001b[38;5;241m.\u001b[39mconvert_to_tensor(y_true, dtype\u001b[38;5;241m=\u001b[39my_pred\u001b[38;5;241m.\u001b[39mdtype)\n\u001b[0;32m   1153\u001b[0m y_true, y_pred \u001b[38;5;241m=\u001b[39m squeeze_or_expand_to_same_rank(y_true, y_pred)\n\u001b[1;32m-> 1154\u001b[0m \u001b[38;5;28;01mreturn\u001b[39;00m ops\u001b[38;5;241m.\u001b[39mmean(ops\u001b[38;5;241m.\u001b[39msquare(\u001b[43my_true\u001b[49m\u001b[43m \u001b[49m\u001b[38;5;241;43m-\u001b[39;49m\u001b[43m \u001b[49m\u001b[43my_pred\u001b[49m), axis\u001b[38;5;241m=\u001b[39m\u001b[38;5;241m-\u001b[39m\u001b[38;5;241m1\u001b[39m)\n",
      "\u001b[1;31mValueError\u001b[0m: Dimensions must be equal, but are 10 and 150 for '{{node compile_loss/mean_squared_error/sub}} = Sub[T=DT_FLOAT](compile_loss/mean_squared_error/Cast, functional_1_1/dense_51_1/Add)' with input shapes: [?,10,768], [?,150,768]."
     ]
    }
   ],
   "source": [
    "# Train the model using the target tensors\n",
    "model.fit(text_embeddings_train_bert, summary_embeddings_train_bert, \n",
    "          validation_data=(text_embeddings_val_bert,summary_embeddings_val_bert),\n",
    "          epochs=15, batch_size=64)"
   ]
  },
  {
   "cell_type": "code",
   "execution_count": null,
   "id": "5261db45",
   "metadata": {},
   "outputs": [],
   "source": []
  },
  {
   "cell_type": "code",
   "execution_count": null,
   "id": "b7c64a56",
   "metadata": {},
   "outputs": [],
   "source": [
    "# Generate predictions for test data\n",
    "predicted_summary = model.predict(text_embeddings_test_bert)"
   ]
  },
  {
   "cell_type": "code",
   "execution_count": null,
   "id": "a913e7d8",
   "metadata": {},
   "outputs": [],
   "source": [
    "predicted_summary.shape"
   ]
  },
  {
   "cell_type": "markdown",
   "id": "5efa5335",
   "metadata": {},
   "source": [
    "def decode_summary(predicted_summary, ids):\n",
    "    decoded_summaries = []\n",
    "    for i in predicted_summary:\n",
    "        decoded_text = tokenizer.decode(i['input_ids'], skip_special_tokens=True)\n",
    "        decoded_summaries.append(decoded_text)\n",
    "    return decoded_summaries"
   ]
  },
  {
   "cell_type": "markdown",
   "id": "c61724c5",
   "metadata": {},
   "source": [
    "# Assuming 'tokenizer' is your BERT tokenizer instance\n",
    "decoded_predictions=decode_summary(predicted_summary, test_ids)"
   ]
  },
  {
   "cell_type": "markdown",
   "id": "49f0de9a",
   "metadata": {},
   "source": [
    "# Print the decoded summaries\n",
    "for i, summary_text in enumerate(decoded_predictions):\n",
    "    print(f\"Sample {i+1} Summary: {summary_text} Len: {len(summary_text)}\")\n",
    "    print()"
   ]
  },
  {
   "cell_type": "code",
   "execution_count": null,
   "id": "e3a50eb5",
   "metadata": {},
   "outputs": [],
   "source": [
    "test_input = [\"My name is Rhea and I am 19 years old\"]\n",
    "encoding = tokenizer.batch_encode_plus(test_input,\n",
    "                                      padding=True,\n",
    "                                      truncation=True,\n",
    "                                      return_tensors='pt',\n",
    "                                      add_special_tokens=True)"
   ]
  },
  {
   "cell_type": "code",
   "execution_count": null,
   "id": "b1f417cc",
   "metadata": {},
   "outputs": [],
   "source": [
    "encoding"
   ]
  },
  {
   "cell_type": "code",
   "execution_count": null,
   "id": "25f6e72d",
   "metadata": {},
   "outputs": [],
   "source": [
    "input_ids = encoding['input_ids']\n",
    "attention_mask = encoding['attention_mask']"
   ]
  },
  {
   "cell_type": "code",
   "execution_count": null,
   "id": "5e36917f",
   "metadata": {},
   "outputs": [],
   "source": [
    "with torch.no_grad():\n",
    "    outputs = bert_model(input_ids, attention_mask=attention_mask)\n",
    "    word_embeddings = outputs.last_hidden_state \n",
    "    print(word_embeddings.shape)\n",
    "    print(len(word_embeddings))"
   ]
  },
  {
   "cell_type": "code",
   "execution_count": null,
   "id": "d684f9be",
   "metadata": {},
   "outputs": [],
   "source": [
    "word_embeddings = pad_sequences(word_embeddings, maxlen=max_sequence_length, padding='post')"
   ]
  },
  {
   "cell_type": "code",
   "execution_count": null,
   "id": "3c7ccd75",
   "metadata": {},
   "outputs": [],
   "source": [
    "summary = model.predict(word_embeddings)"
   ]
  },
  {
   "cell_type": "code",
   "execution_count": null,
   "id": "691d7593",
   "metadata": {},
   "outputs": [],
   "source": [
    "print(summary)"
   ]
  },
  {
   "cell_type": "code",
   "execution_count": null,
   "id": "f847f0fc",
   "metadata": {},
   "outputs": [],
   "source": [
    "summary.shape"
   ]
  },
  {
   "cell_type": "code",
   "execution_count": null,
   "id": "d94162c5",
   "metadata": {},
   "outputs": [],
   "source": [
    "dec = bert.get_output_embeddings()(torch.from_numpy(summary.reshape(4,768)).float())\n",
    "print(\"Decoded sentence:\", tok.decode(dec.softmax(0).argmax(1)))"
   ]
  },
  {
   "cell_type": "code",
   "execution_count": null,
   "id": "55929782",
   "metadata": {},
   "outputs": [],
   "source": [
    "print(tokenizer.convert_ids_to_tokens(summary['input_ids'],skip_special_tokens=True))"
   ]
  },
  {
   "cell_type": "code",
   "execution_count": null,
   "id": "b10cd96c",
   "metadata": {},
   "outputs": [],
   "source": [
    "for i in summary:\n",
    "    decoded_text = tokenizer.decode(input_ids[0], skip_special_tokens=True)\n",
    "    decoded_text = tokenizer.tokenize(decoded_text)\n",
    "print(decoded_text)"
   ]
  },
  {
   "cell_type": "markdown",
   "id": "30b6e8d2",
   "metadata": {},
   "source": [
    "from rouge import Rouge"
   ]
  },
  {
   "cell_type": "markdown",
   "id": "9e00c4e5",
   "metadata": {},
   "source": [
    "def evaluate_rouge_n(predicted_embeddings_list, reference_embeddings_list, n=1):\n",
    "    rouge_scores = {'rouge-{}-f'.format(n): 0.0, 'rouge-{}-p'.format(n): 0.0, 'rouge-{}-r'.format(n): 0.0}\n",
    "    rouge = Rouge()\n",
    "    \n",
    "    # Convert embeddings to tex\n",
    "    predicted_texts = [tokenizer.decode(embedding) for embeddings in predicted_embeddings_list for embedding in embeddings]\n",
    "    reference_texts = [tokenizer.decode(embedding) for embeddings in reference_embeddings_list for embedding in embeddings]\n",
    "    \n",
    "    # Calculate ROUGE-N scores\n",
    "    valid_scores_count = 0\n",
    "    for pred_text, ref_text in zip(predicted_texts, reference_texts):\n",
    "        scores = rouge.get_scores(pred_text, ref_text)\n",
    "        if len(scores) > 0:\n",
    "            scores = scores[0]\n",
    "            rouge_scores['rouge-{}-f'.format(n)] += scores.get('rouge-{}-f'.format(n), 0.0)\n",
    "            rouge_scores['rouge-{}-p'.format(n)] += scores.get('rouge-{}-p'.format(n), 0.0)\n",
    "            rouge_scores['rouge-{}-r'.format(n)] += scores.get('rouge-{}-r'.format(n), 0.0)\n",
    "            valid_scores_count += 1\n",
    "    \n",
    "    # Average the scores\n",
    "    if valid_scores_count > 0:\n",
    "        for metric in ['f', 'p', 'r']:\n",
    "            rouge_scores['rouge-{}-{}'.format(n, metric)] /= valid_scores_count\n",
    "    \n",
    "    return rouge_scores"
   ]
  },
  {
   "cell_type": "code",
   "execution_count": null,
   "id": "e9bf7a11",
   "metadata": {},
   "outputs": [],
   "source": []
  },
  {
   "cell_type": "code",
   "execution_count": null,
   "id": "03be0cd9",
   "metadata": {},
   "outputs": [],
   "source": []
  }
 ],
 "metadata": {
  "kernelspec": {
   "display_name": "Python 3 (ipykernel)",
   "language": "python",
   "name": "python3"
  },
  "language_info": {
   "codemirror_mode": {
    "name": "ipython",
    "version": 3
   },
   "file_extension": ".py",
   "mimetype": "text/x-python",
   "name": "python",
   "nbconvert_exporter": "python",
   "pygments_lexer": "ipython3",
   "version": "3.10.9"
  }
 },
 "nbformat": 4,
 "nbformat_minor": 5
}
