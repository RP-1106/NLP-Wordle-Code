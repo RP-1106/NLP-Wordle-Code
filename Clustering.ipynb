{
 "cells": [
  {
   "cell_type": "code",
   "execution_count": 1,
   "id": "853b73de",
   "metadata": {},
   "outputs": [],
   "source": [
    "import pandas as pd\n",
    "import numpy as np\n",
    "from sklearn.cluster import KMeans\n",
    "from gensim.models import KeyedVectors\n",
    "from sentence_transformers import SentenceTransformer\n",
    "import random"
   ]
  },
  {
   "cell_type": "code",
   "execution_count": 2,
   "id": "1721eb42",
   "metadata": {},
   "outputs": [
    {
     "name": "stderr",
     "output_type": "stream",
     "text": [
      "C:\\Users\\Rhea Pandita\\AppData\\Local\\Temp\\ipykernel_17112\\4034148051.py:2: DeprecationWarning: Call to deprecated `glove2word2vec` (KeyedVectors.load_word2vec_format(.., binary=False, no_header=True) loads GLoVE text vectors.).\n",
      "  glove2word2vec(glove_input_file=\"glove.6B.300d.txt\",\n"
     ]
    },
    {
     "data": {
      "text/plain": [
       "(400000, 300)"
      ]
     },
     "execution_count": 2,
     "metadata": {},
     "output_type": "execute_result"
    }
   ],
   "source": [
    "from gensim.scripts.glove2word2vec import glove2word2vec\n",
    "glove2word2vec(glove_input_file=\"glove.6B.300d.txt\", \n",
    "               word2vec_output_file=\"gensim_glove_vectors.txt\")"
   ]
  },
  {
   "cell_type": "code",
   "execution_count": 3,
   "id": "7dbbe6f1",
   "metadata": {},
   "outputs": [],
   "source": [
    "# Load GloVe embeddings\n",
    "glove_model = KeyedVectors.load_word2vec_format('gensim_glove_vectors.txt', \n",
    "                                                binary=False)"
   ]
  },
  {
   "cell_type": "code",
   "execution_count": 4,
   "id": "d0ee9cf7",
   "metadata": {},
   "outputs": [],
   "source": [
    "# Load fastText embeddings\n",
    "# Load a pre-trained FastText model\n",
    "fasttext_model = KeyedVectors.load_word2vec_format('wiki-news-300d-1M.vec')"
   ]
  },
  {
   "cell_type": "code",
   "execution_count": 5,
   "id": "9696ca2a",
   "metadata": {},
   "outputs": [],
   "source": [
    "# Load BERT model\n",
    "bert_model = SentenceTransformer('bert-base-nli-mean-tokens')"
   ]
  },
  {
   "cell_type": "code",
   "execution_count": 6,
   "id": "26e04458",
   "metadata": {},
   "outputs": [],
   "source": [
    "distilbert_model = SentenceTransformer('distilbert-base-nli-mean-tokens')"
   ]
  },
  {
   "cell_type": "code",
   "execution_count": 7,
   "id": "afe3a5df",
   "metadata": {},
   "outputs": [],
   "source": [
    "# Load your dataset\n",
    "data = pd.read_csv('wordle_dataset.csv')\n",
    "data = data.dropna()"
   ]
  },
  {
   "cell_type": "code",
   "execution_count": 8,
   "id": "7732d787",
   "metadata": {},
   "outputs": [],
   "source": [
    "# Preprocess dataset\n",
    "words = data['word'].values.tolist()\n",
    "synonyms = data.drop(columns=['Unnamed: 0','word','meaning1','meaning2','meaning5']).values.flatten().tolist()\n",
    "unique_synonyms = list(set(synonyms))\n",
    "all_words = words + unique_synonyms"
   ]
  },
  {
   "cell_type": "code",
   "execution_count": 9,
   "id": "e4f9ce0f",
   "metadata": {},
   "outputs": [],
   "source": [
    "glove_embeddings = np.array([glove_model[word] if word in glove_model else np.zeros(glove_model.vector_size) for word in all_words])"
   ]
  },
  {
   "cell_type": "code",
   "execution_count": 10,
   "id": "4cb5c7c4",
   "metadata": {},
   "outputs": [],
   "source": [
    "fasttext_embeddings = np.array([fasttext_model[word] if word in fasttext_model else np.zeros(fasttext_model.vector_size) for word in all_words])"
   ]
  },
  {
   "cell_type": "code",
   "execution_count": 11,
   "id": "9c68d774",
   "metadata": {},
   "outputs": [],
   "source": [
    "bert_embeddings = bert_model.encode(all_words)"
   ]
  },
  {
   "cell_type": "code",
   "execution_count": 12,
   "id": "5741ae1f",
   "metadata": {},
   "outputs": [],
   "source": [
    "distil_embeddings = distilbert_model.encode(all_words)"
   ]
  },
  {
   "cell_type": "code",
   "execution_count": 13,
   "id": "6eca83cb",
   "metadata": {},
   "outputs": [],
   "source": [
    "# Perform clustering separately for GloVe, fastText, and BERT embeddings\n",
    "def perform_clustering(embeddings, n_clusters=3):\n",
    "    kmeans = KMeans(n_clusters=n_clusters)\n",
    "    clusters = kmeans.fit_predict(embeddings)\n",
    "    return kmeans, clusters"
   ]
  },
  {
   "cell_type": "code",
   "execution_count": 14,
   "id": "88fb32fb",
   "metadata": {},
   "outputs": [
    {
     "name": "stderr",
     "output_type": "stream",
     "text": [
      "C:\\Users\\Rhea Pandita\\anaconda3\\lib\\site-packages\\sklearn\\cluster\\_kmeans.py:870: FutureWarning: The default value of `n_init` will change from 10 to 'auto' in 1.4. Set the value of `n_init` explicitly to suppress the warning\n",
      "  warnings.warn(\n"
     ]
    }
   ],
   "source": [
    "kmeans_glove, clusters_glove = perform_clustering(glove_embeddings)"
   ]
  },
  {
   "cell_type": "code",
   "execution_count": 15,
   "id": "0becd53d",
   "metadata": {},
   "outputs": [
    {
     "name": "stderr",
     "output_type": "stream",
     "text": [
      "C:\\Users\\Rhea Pandita\\anaconda3\\lib\\site-packages\\sklearn\\cluster\\_kmeans.py:870: FutureWarning: The default value of `n_init` will change from 10 to 'auto' in 1.4. Set the value of `n_init` explicitly to suppress the warning\n",
      "  warnings.warn(\n"
     ]
    }
   ],
   "source": [
    "kmeans_fasttext, clusters_fasttext = perform_clustering(fasttext_embeddings)"
   ]
  },
  {
   "cell_type": "code",
   "execution_count": 16,
   "id": "c782a211",
   "metadata": {},
   "outputs": [
    {
     "name": "stderr",
     "output_type": "stream",
     "text": [
      "C:\\Users\\Rhea Pandita\\anaconda3\\lib\\site-packages\\sklearn\\cluster\\_kmeans.py:870: FutureWarning: The default value of `n_init` will change from 10 to 'auto' in 1.4. Set the value of `n_init` explicitly to suppress the warning\n",
      "  warnings.warn(\n"
     ]
    }
   ],
   "source": [
    "kmeans_bert, clusters_bert = perform_clustering(bert_embeddings)"
   ]
  },
  {
   "cell_type": "code",
   "execution_count": 17,
   "id": "669f97af",
   "metadata": {},
   "outputs": [
    {
     "name": "stderr",
     "output_type": "stream",
     "text": [
      "C:\\Users\\Rhea Pandita\\anaconda3\\lib\\site-packages\\sklearn\\cluster\\_kmeans.py:870: FutureWarning: The default value of `n_init` will change from 10 to 'auto' in 1.4. Set the value of `n_init` explicitly to suppress the warning\n",
      "  warnings.warn(\n"
     ]
    }
   ],
   "source": [
    "kmeans_distil, clusters_distil = perform_clustering(distil_embeddings)"
   ]
  },
  {
   "cell_type": "markdown",
   "id": "b3b13788",
   "metadata": {},
   "source": [
    "# Choose a word at random\n",
    "random_word = random.choice(words)"
   ]
  },
  {
   "cell_type": "code",
   "execution_count": 18,
   "id": "5cb7d4cf",
   "metadata": {},
   "outputs": [],
   "source": [
    "random_word = 'accelerate'"
   ]
  },
  {
   "cell_type": "code",
   "execution_count": 19,
   "id": "3a17b80b",
   "metadata": {},
   "outputs": [],
   "source": [
    "# Embed the random word using GloVe, fastText, and BERT\n",
    "random_word_glove_embedding = glove_model[random_word] if random_word in glove_model else np.zeros(glove_model.vector_size)"
   ]
  },
  {
   "cell_type": "code",
   "execution_count": 20,
   "id": "b8435bae",
   "metadata": {},
   "outputs": [],
   "source": [
    "random_word_fasttext_embedding = fasttext_model[random_word] if random_word in fasttext_model else np.zeros(fasttext_model.vector_size)"
   ]
  },
  {
   "cell_type": "code",
   "execution_count": 21,
   "id": "938ff3ae",
   "metadata": {},
   "outputs": [],
   "source": [
    "random_word_bert_embedding = bert_model.encode([random_word])[0]"
   ]
  },
  {
   "cell_type": "code",
   "execution_count": 22,
   "id": "4c3d74a1",
   "metadata": {},
   "outputs": [],
   "source": [
    "random_word_distil_embedding = distilbert_model.encode([random_word])[0]"
   ]
  },
  {
   "cell_type": "code",
   "execution_count": 23,
   "id": "32a5211b",
   "metadata": {},
   "outputs": [],
   "source": [
    "# Find top 10 words closest to the chosen word based on the embeddings in each cluster\n",
    "def find_similar_words_in_clusters(embeddings, cluster_labels, chosen_word_embedding, all_words, k=10):\n",
    "    similar_words = []\n",
    "    for cluster_id in range(cluster_labels.max() + 1):\n",
    "        cluster_indices = np.where(cluster_labels == cluster_id)[0]\n",
    "        cluster_embeddings = embeddings[cluster_indices]\n",
    "        cluster_words = np.array(all_words)[cluster_indices]\n",
    "        distances = np.linalg.norm(cluster_embeddings - chosen_word_embedding, axis=1)\n",
    "        closest_indices = np.argsort(distances)[:k]\n",
    "        similar_words.extend(cluster_words[closest_indices])\n",
    "    return similar_words"
   ]
  },
  {
   "cell_type": "code",
   "execution_count": 24,
   "id": "82392bd3",
   "metadata": {},
   "outputs": [],
   "source": [
    "similar_words_glove = find_similar_words_in_clusters(glove_embeddings, clusters_glove, \n",
    "                                                     random_word_glove_embedding, \n",
    "                                                     all_words)"
   ]
  },
  {
   "cell_type": "code",
   "execution_count": 25,
   "id": "a04c3fa8",
   "metadata": {},
   "outputs": [],
   "source": [
    "similar_words_fasttext = find_similar_words_in_clusters(fasttext_embeddings, clusters_fasttext, \n",
    "                                                        random_word_fasttext_embedding,\n",
    "                                                        all_words)"
   ]
  },
  {
   "cell_type": "code",
   "execution_count": 26,
   "id": "ebcc7408",
   "metadata": {},
   "outputs": [],
   "source": [
    "similar_words_bert = find_similar_words_in_clusters(bert_embeddings, clusters_bert, \n",
    "                                                    random_word_bert_embedding,\n",
    "                                                    all_words)"
   ]
  },
  {
   "cell_type": "code",
   "execution_count": 27,
   "id": "9f229cc1",
   "metadata": {},
   "outputs": [],
   "source": [
    "similar_words_distil = find_similar_words_in_clusters(distil_embeddings, clusters_distil, \n",
    "                                                    random_word_distil_embedding,\n",
    "                                                    all_words)"
   ]
  },
  {
   "cell_type": "code",
   "execution_count": 28,
   "id": "22f2cd85",
   "metadata": {},
   "outputs": [
    {
     "name": "stdout",
     "output_type": "stream",
     "text": [
      "Random Word: accelerate\n"
     ]
    }
   ],
   "source": [
    "# Compare the similar words returned by the three embeddings\n",
    "print(\"Random Word:\", random_word)"
   ]
  },
  {
   "cell_type": "code",
   "execution_count": 29,
   "id": "f788583c",
   "metadata": {},
   "outputs": [],
   "source": [
    "similar_words_glove = list(set(similar_words_glove))\n",
    "similar_words_fasttext = list(set(similar_words_fasttext))\n",
    "similar_words_bert = list(set(similar_words_bert))\n",
    "similar_words_distil = list(set(similar_words_distil))"
   ]
  },
  {
   "cell_type": "code",
   "execution_count": 30,
   "id": "b44fb306",
   "metadata": {},
   "outputs": [
    {
     "name": "stdout",
     "output_type": "stream",
     "text": [
      "Top 10 Similar Words (GloVe): ['sir james dewar', 'oddment', 'push', 'constrain', 'boost', 'accelerate', 'blood relation', 'facilitate', 'mental rejection', 'decelerate', 'impede', 'hasten', 'enable', 'step in', 'slow', 'conjunctivitis arida', 'invigorate', 'nystan', 'jack london', 'sea puss', 'plimsoll mark', 'retard', 'accelerated', 'stymie']\n"
     ]
    }
   ],
   "source": [
    "print(\"Top 10 Similar Words (GloVe):\", similar_words_glove)"
   ]
  },
  {
   "cell_type": "code",
   "execution_count": 31,
   "id": "4dd00842",
   "metadata": {},
   "outputs": [
    {
     "name": "stdout",
     "output_type": "stream",
     "text": [
      "Top 10 Similar Words (fastText): ['button quail', 'accelerate', 'intensify', 'coss', 'reduce', 'tormentor', 'artocarpus communis', 'facilitate', 'accelerated', 'initiate', 'pachouli', 'highrisk', 'visavis', 'hasten', 'increase', 'aachen', 'sir hiram stevens maxim', 'log zs']\n"
     ]
    }
   ],
   "source": [
    "print(\"Top 10 Similar Words (fastText):\", similar_words_fasttext)"
   ]
  },
  {
   "cell_type": "code",
   "execution_count": 32,
   "id": "34319c3c",
   "metadata": {},
   "outputs": [
    {
     "name": "stdout",
     "output_type": "stream",
     "text": [
      "Top 10 Similar Words (BERT): ['speed up', 'rev up', 'boost', 'accelerate', 'drive', 'veering', 'friction', 'scrambled', 'multiplied', 'motored', 'quicken', 'forwardlooking', 'thrust', 'expand', 'airheaded', 'speed', 'jerking', 'speeding', 'quickening', 'frenzy', 'accelerated', 'superhighway', 'embolden']\n"
     ]
    }
   ],
   "source": [
    "print(\"Top 10 Similar Words (BERT):\", similar_words_bert)"
   ]
  },
  {
   "cell_type": "code",
   "execution_count": 33,
   "id": "38f46e5d",
   "metadata": {},
   "outputs": [
    {
     "name": "stdout",
     "output_type": "stream",
     "text": [
      "Top 10 Similar Words (Distil): ['speed up', 'burgeon forth', 'rev up', 'frantic', 'rolling wave', 'swashbuckling', 'supercharge', 'rushed', 'accelerate', 'faster', 'accelerator', 'fuss', 'push forward', 'runtiness', 'wideawake', 'inflame', 'expand', 'commotion', 'increase', 'joggle', 'frenzy', 'accelerated', 'westward']\n"
     ]
    }
   ],
   "source": [
    "print(\"Top 10 Similar Words (Distil):\", similar_words_distil)"
   ]
  },
  {
   "cell_type": "code",
   "execution_count": 34,
   "id": "22ccbc3d",
   "metadata": {},
   "outputs": [
    {
     "name": "stdout",
     "output_type": "stream",
     "text": [
      "Random Word: accelerate\n",
      "24\n",
      "18\n",
      "23\n"
     ]
    }
   ],
   "source": [
    "# Compare the similar words returned by the three embeddings\n",
    "print(\"Random Word:\", random_word)\n",
    "print(len(similar_words_glove))\n",
    "print(len(similar_words_fasttext))\n",
    "print(len(similar_words_bert))\n"
   ]
  },
  {
   "cell_type": "code",
   "execution_count": null,
   "id": "ab886a55",
   "metadata": {},
   "outputs": [],
   "source": []
  }
 ],
 "metadata": {
  "kernelspec": {
   "display_name": "Python 3 (ipykernel)",
   "language": "python",
   "name": "python3"
  },
  "language_info": {
   "codemirror_mode": {
    "name": "ipython",
    "version": 3
   },
   "file_extension": ".py",
   "mimetype": "text/x-python",
   "name": "python",
   "nbconvert_exporter": "python",
   "pygments_lexer": "ipython3",
   "version": "3.10.9"
  }
 },
 "nbformat": 4,
 "nbformat_minor": 5
}
