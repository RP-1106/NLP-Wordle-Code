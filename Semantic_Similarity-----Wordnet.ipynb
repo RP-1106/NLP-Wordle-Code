{
 "cells": [
  {
   "cell_type": "code",
   "execution_count": 1,
   "id": "de3e5061",
   "metadata": {},
   "outputs": [],
   "source": [
    "import pandas as pd\n",
    "from nltk.corpus import wordnet as wn"
   ]
  },
  {
   "cell_type": "code",
   "execution_count": 2,
   "id": "9d542205",
   "metadata": {},
   "outputs": [
    {
     "name": "stdout",
     "output_type": "stream",
     "text": [
      "147306\n"
     ]
    }
   ],
   "source": [
    "word_list=[]\n",
    "for i in wn.words():\n",
    "    #print(i)\n",
    "    word_list.append(i)\n",
    "print(len(word_list))"
   ]
  },
  {
   "cell_type": "code",
   "execution_count": 3,
   "id": "2b33cca1",
   "metadata": {},
   "outputs": [
    {
     "name": "stdout",
     "output_type": "stream",
     "text": [
      "77806\n"
     ]
    }
   ],
   "source": [
    "filtered_words = []\n",
    "for i in word_list:\n",
    "    if len(i)>1 and \"_\" not in i and \"-\" not in i and \"'\" not in i:\n",
    "        filtered_words.append(i)\n",
    "print(len(filtered_words))"
   ]
  },
  {
   "cell_type": "code",
   "execution_count": 4,
   "id": "b076022b",
   "metadata": {},
   "outputs": [
    {
     "name": "stdout",
     "output_type": "stream",
     "text": [
      "77574\n"
     ]
    }
   ],
   "source": [
    "filtered_words2 = []\n",
    "for i in filtered_words:\n",
    "    if \"1\" not in i and \"2\" not in i and \"3\" not in i and \"4\" not in i and \"5\" not in i and \"6\" not in i:\n",
    "        filtered_words2.append(i)\n",
    "print(len(filtered_words2))"
   ]
  },
  {
   "cell_type": "code",
   "execution_count": 5,
   "id": "acf4f172",
   "metadata": {},
   "outputs": [
    {
     "name": "stdout",
     "output_type": "stream",
     "text": [
      "77554\n"
     ]
    }
   ],
   "source": [
    "filtered_words3 = []\n",
    "for i in filtered_words2:\n",
    "    if \"7\" not in i and \"8\" not in i and \"9\" not in i and \"0\" not in i :\n",
    "        filtered_words3.append(i)\n",
    "print(len(filtered_words3))"
   ]
  },
  {
   "cell_type": "code",
   "execution_count": 6,
   "id": "d82fe366",
   "metadata": {},
   "outputs": [
    {
     "name": "stdout",
     "output_type": "stream",
     "text": [
      "77484\n"
     ]
    }
   ],
   "source": [
    "filtered_words4 = []\n",
    "for i in filtered_words3:\n",
    "    if \".\" not in i:\n",
    "        filtered_words4.append(i)\n",
    "print(len(filtered_words4))"
   ]
  },
  {
   "cell_type": "code",
   "execution_count": 7,
   "id": "3b008810",
   "metadata": {},
   "outputs": [],
   "source": [
    "from nltk.stem import WordNetLemmatizer\n",
    "wnl = WordNetLemmatizer()\n",
    "for i in word_list:\n",
    "    i = wnl.lemmatize(i)"
   ]
  },
  {
   "cell_type": "code",
   "execution_count": 8,
   "id": "1acb83ec",
   "metadata": {},
   "outputs": [],
   "source": [
    "for i in filtered_words4:\n",
    "    i = i.replace(r'[^\\w\\s]+', '')"
   ]
  },
  {
   "cell_type": "code",
   "execution_count": 9,
   "id": "37e399b0",
   "metadata": {},
   "outputs": [
    {
     "name": "stdout",
     "output_type": "stream",
     "text": [
      "77484\n"
     ]
    }
   ],
   "source": [
    "word_tuple = sorted(list(set(filtered_words4)))\n",
    "print(len(word_tuple))"
   ]
  },
  {
   "cell_type": "code",
   "execution_count": 10,
   "id": "57fb9b49",
   "metadata": {},
   "outputs": [
    {
     "name": "stdout",
     "output_type": "stream",
     "text": [
      "77484\n"
     ]
    }
   ],
   "source": [
    "word_list = list(word_tuple)\n",
    "print(len(word_list))"
   ]
  },
  {
   "cell_type": "markdown",
   "id": "e939a83d",
   "metadata": {},
   "source": [
    "from nltk.corpus import wordnet as wn\n",
    "for ss in wn.all_synsets():\n",
    "    print (ss)\n",
    "    print (ss.definition())\n",
    "    break"
   ]
  },
  {
   "cell_type": "code",
   "execution_count": 11,
   "id": "39e3af4b",
   "metadata": {},
   "outputs": [],
   "source": [
    "# List to store definitions for each word\n",
    "definitions_list = []\n",
    "\n",
    "for word in word_list:\n",
    "    synsets = wn.synsets(word)\n",
    "    word_definitions = []\n",
    "    \n",
    "    for synset in synsets:\n",
    "        word_definitions.append(synset.definition())\n",
    "    word_definitions_concatenated = \"; \".join(word_definitions)\n",
    "    definitions_list.append(word_definitions_concatenated)"
   ]
  },
  {
   "cell_type": "code",
   "execution_count": 12,
   "id": "9bd16c5c",
   "metadata": {},
   "outputs": [
    {
     "name": "stdout",
     "output_type": "stream",
     "text": [
      "77484\n"
     ]
    }
   ],
   "source": [
    "print(len(definitions_list))"
   ]
  },
  {
   "cell_type": "code",
   "execution_count": 13,
   "id": "5ccd2b62",
   "metadata": {},
   "outputs": [
    {
     "name": "stdout",
     "output_type": "stream",
     "text": [
      "a dry form of lava resembling clinkers; an international organization that provides a support group for persons trying to overcome alcoholism; an associate degree in arts\n",
      "\n",
      "an aneurysm of the abdominal aorta associated with old age and hypertension\n",
      "\n",
      "a city in western Germany near the Dutch and Belgian borders; formerly it was Charlemagne's northern capital\n",
      "\n",
      "express admiration and pleasure by uttering `ooh' or `aah'\n",
      "\n"
     ]
    }
   ],
   "source": [
    "for i in range(4):\n",
    "    print(definitions_list[i])\n",
    "    print()"
   ]
  },
  {
   "cell_type": "code",
   "execution_count": null,
   "id": "e4edd1c9",
   "metadata": {},
   "outputs": [],
   "source": []
  },
  {
   "cell_type": "code",
   "execution_count": 14,
   "id": "b32adf3f",
   "metadata": {},
   "outputs": [],
   "source": [
    "def get_all_synonyms(word):\n",
    "    synonyms = []\n",
    "    for ss in wn.synsets(word):\n",
    "        synonyms.extend(ss.lemma_names())\n",
    "        for sim in ss.similar_tos():\n",
    "            synonyms_batch = sim.lemma_names()\n",
    "            synonyms.extend(synonyms_batch)\n",
    "    synonyms = set(synonyms)\n",
    "    if word in synonyms:\n",
    "        synonyms.remove(word)\n",
    "    synonyms = [synonym.replace('_',' ') for synonym in synonyms]\n",
    "    return synonyms"
   ]
  },
  {
   "cell_type": "code",
   "execution_count": 15,
   "id": "7ee4e4df",
   "metadata": {},
   "outputs": [],
   "source": [
    "synonyms_list = []\n",
    "for word in word_list:\n",
    "    synonyms = get_all_synonyms(word)\n",
    "    synonyms_concatenated = \"; \".join(synonyms)\n",
    "    synonyms_list.append(synonyms_concatenated)"
   ]
  },
  {
   "cell_type": "code",
   "execution_count": 16,
   "id": "9aac6eec",
   "metadata": {},
   "outputs": [
    {
     "name": "stdout",
     "output_type": "stream",
     "text": [
      "Associate in Arts; AA; Alcoholics Anonymous\n",
      "\n",
      "AAA; abdominal aortic aneurysm\n",
      "\n",
      "Aix-la-Chapelle; Aachen; Aken\n",
      "\n",
      "ooh\n",
      "\n"
     ]
    }
   ],
   "source": [
    "for i in range(4):\n",
    "    print(synonyms_list[i])\n",
    "    print()"
   ]
  },
  {
   "cell_type": "code",
   "execution_count": null,
   "id": "c7352042",
   "metadata": {},
   "outputs": [],
   "source": []
  },
  {
   "cell_type": "code",
   "execution_count": 17,
   "id": "d1d44249",
   "metadata": {},
   "outputs": [],
   "source": [
    "df = pd.DataFrame(\n",
    "    {'word':word_list,\n",
    "    'meaning':definitions_list,\n",
    "    'synonyms':synonyms_list}\n",
    ")"
   ]
  },
  {
   "cell_type": "code",
   "execution_count": 18,
   "id": "9d9bae32",
   "metadata": {},
   "outputs": [
    {
     "data": {
      "text/html": [
       "<div>\n",
       "<style scoped>\n",
       "    .dataframe tbody tr th:only-of-type {\n",
       "        vertical-align: middle;\n",
       "    }\n",
       "\n",
       "    .dataframe tbody tr th {\n",
       "        vertical-align: top;\n",
       "    }\n",
       "\n",
       "    .dataframe thead th {\n",
       "        text-align: right;\n",
       "    }\n",
       "</style>\n",
       "<table border=\"1\" class=\"dataframe\">\n",
       "  <thead>\n",
       "    <tr style=\"text-align: right;\">\n",
       "      <th></th>\n",
       "      <th>word</th>\n",
       "      <th>meaning</th>\n",
       "      <th>synonyms</th>\n",
       "    </tr>\n",
       "  </thead>\n",
       "  <tbody>\n",
       "    <tr>\n",
       "      <th>0</th>\n",
       "      <td>aa</td>\n",
       "      <td>a dry form of lava resembling clinkers; an int...</td>\n",
       "      <td>Associate in Arts; AA; Alcoholics Anonymous</td>\n",
       "    </tr>\n",
       "    <tr>\n",
       "      <th>1</th>\n",
       "      <td>aaa</td>\n",
       "      <td>an aneurysm of the abdominal aorta associated ...</td>\n",
       "      <td>AAA; abdominal aortic aneurysm</td>\n",
       "    </tr>\n",
       "    <tr>\n",
       "      <th>2</th>\n",
       "      <td>aachen</td>\n",
       "      <td>a city in western Germany near the Dutch and B...</td>\n",
       "      <td>Aix-la-Chapelle; Aachen; Aken</td>\n",
       "    </tr>\n",
       "    <tr>\n",
       "      <th>3</th>\n",
       "      <td>aah</td>\n",
       "      <td>express admiration and pleasure by uttering `o...</td>\n",
       "      <td>ooh</td>\n",
       "    </tr>\n",
       "    <tr>\n",
       "      <th>4</th>\n",
       "      <td>aalborg</td>\n",
       "      <td>a city and port in northern Jutland</td>\n",
       "      <td>Alborg; Aalborg</td>\n",
       "    </tr>\n",
       "    <tr>\n",
       "      <th>5</th>\n",
       "      <td>aalii</td>\n",
       "      <td>a small Hawaiian tree with hard dark wood</td>\n",
       "      <td></td>\n",
       "    </tr>\n",
       "    <tr>\n",
       "      <th>6</th>\n",
       "      <td>aalst</td>\n",
       "      <td>a town in central Belgium</td>\n",
       "      <td>Aalst</td>\n",
       "    </tr>\n",
       "    <tr>\n",
       "      <th>7</th>\n",
       "      <td>aalto</td>\n",
       "      <td>Finnish architect and designer of furniture (1...</td>\n",
       "      <td>Hugo Alvar Henrik Aalto; Aalto; Alvar Aalto</td>\n",
       "    </tr>\n",
       "    <tr>\n",
       "      <th>8</th>\n",
       "      <td>aar</td>\n",
       "      <td>a river in north central Switzerland that runs...</td>\n",
       "      <td>Aare; Aare River; Aar</td>\n",
       "    </tr>\n",
       "    <tr>\n",
       "      <th>9</th>\n",
       "      <td>aardvark</td>\n",
       "      <td>nocturnal burrowing mammal of the grasslands o...</td>\n",
       "      <td>anteater; ant bear; Orycteropus afer</td>\n",
       "    </tr>\n",
       "  </tbody>\n",
       "</table>\n",
       "</div>"
      ],
      "text/plain": [
       "       word                                            meaning  \\\n",
       "0        aa  a dry form of lava resembling clinkers; an int...   \n",
       "1       aaa  an aneurysm of the abdominal aorta associated ...   \n",
       "2    aachen  a city in western Germany near the Dutch and B...   \n",
       "3       aah  express admiration and pleasure by uttering `o...   \n",
       "4   aalborg                a city and port in northern Jutland   \n",
       "5     aalii          a small Hawaiian tree with hard dark wood   \n",
       "6     aalst                          a town in central Belgium   \n",
       "7     aalto  Finnish architect and designer of furniture (1...   \n",
       "8       aar  a river in north central Switzerland that runs...   \n",
       "9  aardvark  nocturnal burrowing mammal of the grasslands o...   \n",
       "\n",
       "                                      synonyms  \n",
       "0  Associate in Arts; AA; Alcoholics Anonymous  \n",
       "1               AAA; abdominal aortic aneurysm  \n",
       "2                Aix-la-Chapelle; Aachen; Aken  \n",
       "3                                          ooh  \n",
       "4                              Alborg; Aalborg  \n",
       "5                                               \n",
       "6                                        Aalst  \n",
       "7  Hugo Alvar Henrik Aalto; Aalto; Alvar Aalto  \n",
       "8                        Aare; Aare River; Aar  \n",
       "9         anteater; ant bear; Orycteropus afer  "
      ]
     },
     "execution_count": 18,
     "metadata": {},
     "output_type": "execute_result"
    }
   ],
   "source": [
    "df.head(10)"
   ]
  },
  {
   "cell_type": "code",
   "execution_count": 19,
   "id": "76b342a7",
   "metadata": {},
   "outputs": [
    {
     "name": "stderr",
     "output_type": "stream",
     "text": [
      "C:\\Users\\Rhea Pandita\\AppData\\Local\\Temp\\ipykernel_22164\\2120708685.py:1: FutureWarning: In a future version of pandas all arguments of StringMethods.split except for the argument 'pat' will be keyword-only.\n",
      "  df[['meaning1','meaning2']] = df['meaning'].str.split('; ', 1, expand=True)\n",
      "C:\\Users\\Rhea Pandita\\AppData\\Local\\Temp\\ipykernel_22164\\2120708685.py:2: FutureWarning: In a future version of pandas all arguments of StringMethods.split except for the argument 'pat' will be keyword-only.\n",
      "  df[['meaning3','meaning4','meaning5']] = df['synonyms'].str.split('; ', 2, expand=True)\n"
     ]
    },
    {
     "data": {
      "text/html": [
       "<div>\n",
       "<style scoped>\n",
       "    .dataframe tbody tr th:only-of-type {\n",
       "        vertical-align: middle;\n",
       "    }\n",
       "\n",
       "    .dataframe tbody tr th {\n",
       "        vertical-align: top;\n",
       "    }\n",
       "\n",
       "    .dataframe thead th {\n",
       "        text-align: right;\n",
       "    }\n",
       "</style>\n",
       "<table border=\"1\" class=\"dataframe\">\n",
       "  <thead>\n",
       "    <tr style=\"text-align: right;\">\n",
       "      <th></th>\n",
       "      <th>word</th>\n",
       "      <th>meaning</th>\n",
       "      <th>synonyms</th>\n",
       "      <th>meaning1</th>\n",
       "      <th>meaning2</th>\n",
       "      <th>meaning3</th>\n",
       "      <th>meaning4</th>\n",
       "      <th>meaning5</th>\n",
       "    </tr>\n",
       "  </thead>\n",
       "  <tbody>\n",
       "    <tr>\n",
       "      <th>0</th>\n",
       "      <td>aa</td>\n",
       "      <td>a dry form of lava resembling clinkers; an int...</td>\n",
       "      <td>Associate in Arts; AA; Alcoholics Anonymous</td>\n",
       "      <td>a dry form of lava resembling clinkers</td>\n",
       "      <td>an international organization that provides a ...</td>\n",
       "      <td>Associate in Arts</td>\n",
       "      <td>AA</td>\n",
       "      <td>Alcoholics Anonymous</td>\n",
       "    </tr>\n",
       "    <tr>\n",
       "      <th>1</th>\n",
       "      <td>aaa</td>\n",
       "      <td>an aneurysm of the abdominal aorta associated ...</td>\n",
       "      <td>AAA; abdominal aortic aneurysm</td>\n",
       "      <td>an aneurysm of the abdominal aorta associated ...</td>\n",
       "      <td>None</td>\n",
       "      <td>AAA</td>\n",
       "      <td>abdominal aortic aneurysm</td>\n",
       "      <td>None</td>\n",
       "    </tr>\n",
       "    <tr>\n",
       "      <th>2</th>\n",
       "      <td>aachen</td>\n",
       "      <td>a city in western Germany near the Dutch and B...</td>\n",
       "      <td>Aix-la-Chapelle; Aachen; Aken</td>\n",
       "      <td>a city in western Germany near the Dutch and B...</td>\n",
       "      <td>formerly it was Charlemagne's northern capital</td>\n",
       "      <td>Aix-la-Chapelle</td>\n",
       "      <td>Aachen</td>\n",
       "      <td>Aken</td>\n",
       "    </tr>\n",
       "    <tr>\n",
       "      <th>3</th>\n",
       "      <td>aah</td>\n",
       "      <td>express admiration and pleasure by uttering `o...</td>\n",
       "      <td>ooh</td>\n",
       "      <td>express admiration and pleasure by uttering `o...</td>\n",
       "      <td>None</td>\n",
       "      <td>ooh</td>\n",
       "      <td>None</td>\n",
       "      <td>None</td>\n",
       "    </tr>\n",
       "    <tr>\n",
       "      <th>4</th>\n",
       "      <td>aalborg</td>\n",
       "      <td>a city and port in northern Jutland</td>\n",
       "      <td>Alborg; Aalborg</td>\n",
       "      <td>a city and port in northern Jutland</td>\n",
       "      <td>None</td>\n",
       "      <td>Alborg</td>\n",
       "      <td>Aalborg</td>\n",
       "      <td>None</td>\n",
       "    </tr>\n",
       "    <tr>\n",
       "      <th>5</th>\n",
       "      <td>aalii</td>\n",
       "      <td>a small Hawaiian tree with hard dark wood</td>\n",
       "      <td></td>\n",
       "      <td>a small Hawaiian tree with hard dark wood</td>\n",
       "      <td>None</td>\n",
       "      <td></td>\n",
       "      <td>None</td>\n",
       "      <td>None</td>\n",
       "    </tr>\n",
       "    <tr>\n",
       "      <th>6</th>\n",
       "      <td>aalst</td>\n",
       "      <td>a town in central Belgium</td>\n",
       "      <td>Aalst</td>\n",
       "      <td>a town in central Belgium</td>\n",
       "      <td>None</td>\n",
       "      <td>Aalst</td>\n",
       "      <td>None</td>\n",
       "      <td>None</td>\n",
       "    </tr>\n",
       "    <tr>\n",
       "      <th>7</th>\n",
       "      <td>aalto</td>\n",
       "      <td>Finnish architect and designer of furniture (1...</td>\n",
       "      <td>Hugo Alvar Henrik Aalto; Aalto; Alvar Aalto</td>\n",
       "      <td>Finnish architect and designer of furniture (1...</td>\n",
       "      <td>None</td>\n",
       "      <td>Hugo Alvar Henrik Aalto</td>\n",
       "      <td>Aalto</td>\n",
       "      <td>Alvar Aalto</td>\n",
       "    </tr>\n",
       "    <tr>\n",
       "      <th>8</th>\n",
       "      <td>aar</td>\n",
       "      <td>a river in north central Switzerland that runs...</td>\n",
       "      <td>Aare; Aare River; Aar</td>\n",
       "      <td>a river in north central Switzerland that runs...</td>\n",
       "      <td>None</td>\n",
       "      <td>Aare</td>\n",
       "      <td>Aare River</td>\n",
       "      <td>Aar</td>\n",
       "    </tr>\n",
       "    <tr>\n",
       "      <th>9</th>\n",
       "      <td>aardvark</td>\n",
       "      <td>nocturnal burrowing mammal of the grasslands o...</td>\n",
       "      <td>anteater; ant bear; Orycteropus afer</td>\n",
       "      <td>nocturnal burrowing mammal of the grasslands o...</td>\n",
       "      <td>sole extant representative of the order Tubuli...</td>\n",
       "      <td>anteater</td>\n",
       "      <td>ant bear</td>\n",
       "      <td>Orycteropus afer</td>\n",
       "    </tr>\n",
       "  </tbody>\n",
       "</table>\n",
       "</div>"
      ],
      "text/plain": [
       "       word                                            meaning  \\\n",
       "0        aa  a dry form of lava resembling clinkers; an int...   \n",
       "1       aaa  an aneurysm of the abdominal aorta associated ...   \n",
       "2    aachen  a city in western Germany near the Dutch and B...   \n",
       "3       aah  express admiration and pleasure by uttering `o...   \n",
       "4   aalborg                a city and port in northern Jutland   \n",
       "5     aalii          a small Hawaiian tree with hard dark wood   \n",
       "6     aalst                          a town in central Belgium   \n",
       "7     aalto  Finnish architect and designer of furniture (1...   \n",
       "8       aar  a river in north central Switzerland that runs...   \n",
       "9  aardvark  nocturnal burrowing mammal of the grasslands o...   \n",
       "\n",
       "                                      synonyms  \\\n",
       "0  Associate in Arts; AA; Alcoholics Anonymous   \n",
       "1               AAA; abdominal aortic aneurysm   \n",
       "2                Aix-la-Chapelle; Aachen; Aken   \n",
       "3                                          ooh   \n",
       "4                              Alborg; Aalborg   \n",
       "5                                                \n",
       "6                                        Aalst   \n",
       "7  Hugo Alvar Henrik Aalto; Aalto; Alvar Aalto   \n",
       "8                        Aare; Aare River; Aar   \n",
       "9         anteater; ant bear; Orycteropus afer   \n",
       "\n",
       "                                            meaning1  \\\n",
       "0             a dry form of lava resembling clinkers   \n",
       "1  an aneurysm of the abdominal aorta associated ...   \n",
       "2  a city in western Germany near the Dutch and B...   \n",
       "3  express admiration and pleasure by uttering `o...   \n",
       "4                a city and port in northern Jutland   \n",
       "5          a small Hawaiian tree with hard dark wood   \n",
       "6                          a town in central Belgium   \n",
       "7  Finnish architect and designer of furniture (1...   \n",
       "8  a river in north central Switzerland that runs...   \n",
       "9  nocturnal burrowing mammal of the grasslands o...   \n",
       "\n",
       "                                            meaning2                 meaning3  \\\n",
       "0  an international organization that provides a ...        Associate in Arts   \n",
       "1                                               None                      AAA   \n",
       "2     formerly it was Charlemagne's northern capital          Aix-la-Chapelle   \n",
       "3                                               None                      ooh   \n",
       "4                                               None                   Alborg   \n",
       "5                                               None                            \n",
       "6                                               None                    Aalst   \n",
       "7                                               None  Hugo Alvar Henrik Aalto   \n",
       "8                                               None                     Aare   \n",
       "9  sole extant representative of the order Tubuli...                 anteater   \n",
       "\n",
       "                    meaning4              meaning5  \n",
       "0                         AA  Alcoholics Anonymous  \n",
       "1  abdominal aortic aneurysm                  None  \n",
       "2                     Aachen                  Aken  \n",
       "3                       None                  None  \n",
       "4                    Aalborg                  None  \n",
       "5                       None                  None  \n",
       "6                       None                  None  \n",
       "7                      Aalto           Alvar Aalto  \n",
       "8                 Aare River                   Aar  \n",
       "9                   ant bear      Orycteropus afer  "
      ]
     },
     "execution_count": 19,
     "metadata": {},
     "output_type": "execute_result"
    }
   ],
   "source": [
    "df[['meaning1','meaning2']] = df['meaning'].str.split('; ', 1, expand=True)\n",
    "df[['meaning3','meaning4','meaning5']] = df['synonyms'].str.split('; ', 2, expand=True)\n",
    "df.head(10)"
   ]
  },
  {
   "cell_type": "code",
   "execution_count": 20,
   "id": "7087439c",
   "metadata": {},
   "outputs": [
    {
     "data": {
      "text/html": [
       "<div>\n",
       "<style scoped>\n",
       "    .dataframe tbody tr th:only-of-type {\n",
       "        vertical-align: middle;\n",
       "    }\n",
       "\n",
       "    .dataframe tbody tr th {\n",
       "        vertical-align: top;\n",
       "    }\n",
       "\n",
       "    .dataframe thead th {\n",
       "        text-align: right;\n",
       "    }\n",
       "</style>\n",
       "<table border=\"1\" class=\"dataframe\">\n",
       "  <thead>\n",
       "    <tr style=\"text-align: right;\">\n",
       "      <th></th>\n",
       "      <th>word</th>\n",
       "      <th>meaning1</th>\n",
       "      <th>meaning2</th>\n",
       "      <th>meaning3</th>\n",
       "      <th>meaning4</th>\n",
       "      <th>meaning5</th>\n",
       "    </tr>\n",
       "  </thead>\n",
       "  <tbody>\n",
       "    <tr>\n",
       "      <th>0</th>\n",
       "      <td>aa</td>\n",
       "      <td>a dry form of lava resembling clinkers</td>\n",
       "      <td>an international organization that provides a ...</td>\n",
       "      <td>Associate in Arts</td>\n",
       "      <td>AA</td>\n",
       "      <td>Alcoholics Anonymous</td>\n",
       "    </tr>\n",
       "    <tr>\n",
       "      <th>1</th>\n",
       "      <td>aaa</td>\n",
       "      <td>an aneurysm of the abdominal aorta associated ...</td>\n",
       "      <td>None</td>\n",
       "      <td>AAA</td>\n",
       "      <td>abdominal aortic aneurysm</td>\n",
       "      <td>None</td>\n",
       "    </tr>\n",
       "    <tr>\n",
       "      <th>2</th>\n",
       "      <td>aachen</td>\n",
       "      <td>a city in western Germany near the Dutch and B...</td>\n",
       "      <td>formerly it was Charlemagne's northern capital</td>\n",
       "      <td>Aix-la-Chapelle</td>\n",
       "      <td>Aachen</td>\n",
       "      <td>Aken</td>\n",
       "    </tr>\n",
       "    <tr>\n",
       "      <th>3</th>\n",
       "      <td>aah</td>\n",
       "      <td>express admiration and pleasure by uttering `o...</td>\n",
       "      <td>None</td>\n",
       "      <td>ooh</td>\n",
       "      <td>None</td>\n",
       "      <td>None</td>\n",
       "    </tr>\n",
       "    <tr>\n",
       "      <th>4</th>\n",
       "      <td>aalborg</td>\n",
       "      <td>a city and port in northern Jutland</td>\n",
       "      <td>None</td>\n",
       "      <td>Alborg</td>\n",
       "      <td>Aalborg</td>\n",
       "      <td>None</td>\n",
       "    </tr>\n",
       "    <tr>\n",
       "      <th>5</th>\n",
       "      <td>aalii</td>\n",
       "      <td>a small Hawaiian tree with hard dark wood</td>\n",
       "      <td>None</td>\n",
       "      <td></td>\n",
       "      <td>None</td>\n",
       "      <td>None</td>\n",
       "    </tr>\n",
       "    <tr>\n",
       "      <th>6</th>\n",
       "      <td>aalst</td>\n",
       "      <td>a town in central Belgium</td>\n",
       "      <td>None</td>\n",
       "      <td>Aalst</td>\n",
       "      <td>None</td>\n",
       "      <td>None</td>\n",
       "    </tr>\n",
       "    <tr>\n",
       "      <th>7</th>\n",
       "      <td>aalto</td>\n",
       "      <td>Finnish architect and designer of furniture (1...</td>\n",
       "      <td>None</td>\n",
       "      <td>Hugo Alvar Henrik Aalto</td>\n",
       "      <td>Aalto</td>\n",
       "      <td>Alvar Aalto</td>\n",
       "    </tr>\n",
       "    <tr>\n",
       "      <th>8</th>\n",
       "      <td>aar</td>\n",
       "      <td>a river in north central Switzerland that runs...</td>\n",
       "      <td>None</td>\n",
       "      <td>Aare</td>\n",
       "      <td>Aare River</td>\n",
       "      <td>Aar</td>\n",
       "    </tr>\n",
       "    <tr>\n",
       "      <th>9</th>\n",
       "      <td>aardvark</td>\n",
       "      <td>nocturnal burrowing mammal of the grasslands o...</td>\n",
       "      <td>sole extant representative of the order Tubuli...</td>\n",
       "      <td>anteater</td>\n",
       "      <td>ant bear</td>\n",
       "      <td>Orycteropus afer</td>\n",
       "    </tr>\n",
       "  </tbody>\n",
       "</table>\n",
       "</div>"
      ],
      "text/plain": [
       "       word                                           meaning1  \\\n",
       "0        aa             a dry form of lava resembling clinkers   \n",
       "1       aaa  an aneurysm of the abdominal aorta associated ...   \n",
       "2    aachen  a city in western Germany near the Dutch and B...   \n",
       "3       aah  express admiration and pleasure by uttering `o...   \n",
       "4   aalborg                a city and port in northern Jutland   \n",
       "5     aalii          a small Hawaiian tree with hard dark wood   \n",
       "6     aalst                          a town in central Belgium   \n",
       "7     aalto  Finnish architect and designer of furniture (1...   \n",
       "8       aar  a river in north central Switzerland that runs...   \n",
       "9  aardvark  nocturnal burrowing mammal of the grasslands o...   \n",
       "\n",
       "                                            meaning2                 meaning3  \\\n",
       "0  an international organization that provides a ...        Associate in Arts   \n",
       "1                                               None                      AAA   \n",
       "2     formerly it was Charlemagne's northern capital          Aix-la-Chapelle   \n",
       "3                                               None                      ooh   \n",
       "4                                               None                   Alborg   \n",
       "5                                               None                            \n",
       "6                                               None                    Aalst   \n",
       "7                                               None  Hugo Alvar Henrik Aalto   \n",
       "8                                               None                     Aare   \n",
       "9  sole extant representative of the order Tubuli...                 anteater   \n",
       "\n",
       "                    meaning4              meaning5  \n",
       "0                         AA  Alcoholics Anonymous  \n",
       "1  abdominal aortic aneurysm                  None  \n",
       "2                     Aachen                  Aken  \n",
       "3                       None                  None  \n",
       "4                    Aalborg                  None  \n",
       "5                       None                  None  \n",
       "6                       None                  None  \n",
       "7                      Aalto           Alvar Aalto  \n",
       "8                 Aare River                   Aar  \n",
       "9                   ant bear      Orycteropus afer  "
      ]
     },
     "execution_count": 20,
     "metadata": {},
     "output_type": "execute_result"
    }
   ],
   "source": [
    "df = df.drop(['meaning','synonyms'],axis=1)\n",
    "df = df.reset_index(drop=True)\n",
    "df.head(10)"
   ]
  },
  {
   "cell_type": "code",
   "execution_count": 21,
   "id": "7ec8b325",
   "metadata": {},
   "outputs": [
    {
     "name": "stdout",
     "output_type": "stream",
     "text": [
      "77484\n",
      "21619\n"
     ]
    }
   ],
   "source": [
    "print(len(df))\n",
    "df = df.dropna()\n",
    "df = df.reset_index(drop=True)\n",
    "print(len(df))"
   ]
  },
  {
   "cell_type": "code",
   "execution_count": 22,
   "id": "bac650c8",
   "metadata": {},
   "outputs": [
    {
     "data": {
      "text/html": [
       "<div>\n",
       "<style scoped>\n",
       "    .dataframe tbody tr th:only-of-type {\n",
       "        vertical-align: middle;\n",
       "    }\n",
       "\n",
       "    .dataframe tbody tr th {\n",
       "        vertical-align: top;\n",
       "    }\n",
       "\n",
       "    .dataframe thead th {\n",
       "        text-align: right;\n",
       "    }\n",
       "</style>\n",
       "<table border=\"1\" class=\"dataframe\">\n",
       "  <thead>\n",
       "    <tr style=\"text-align: right;\">\n",
       "      <th></th>\n",
       "      <th>word</th>\n",
       "      <th>meaning1</th>\n",
       "      <th>meaning2</th>\n",
       "      <th>meaning3</th>\n",
       "      <th>meaning4</th>\n",
       "      <th>meaning5</th>\n",
       "    </tr>\n",
       "  </thead>\n",
       "  <tbody>\n",
       "    <tr>\n",
       "      <th>0</th>\n",
       "      <td>aa</td>\n",
       "      <td>a dry form of lava resembling clinkers</td>\n",
       "      <td>an international organization that provides a ...</td>\n",
       "      <td>Associate in Arts</td>\n",
       "      <td>AA</td>\n",
       "      <td>Alcoholics Anonymous</td>\n",
       "    </tr>\n",
       "    <tr>\n",
       "      <th>1</th>\n",
       "      <td>aachen</td>\n",
       "      <td>a city in western Germany near the Dutch and B...</td>\n",
       "      <td>formerly it was Charlemagne's northern capital</td>\n",
       "      <td>Aix-la-Chapelle</td>\n",
       "      <td>Aachen</td>\n",
       "      <td>Aken</td>\n",
       "    </tr>\n",
       "    <tr>\n",
       "      <th>2</th>\n",
       "      <td>aardvark</td>\n",
       "      <td>nocturnal burrowing mammal of the grasslands o...</td>\n",
       "      <td>sole extant representative of the order Tubuli...</td>\n",
       "      <td>anteater</td>\n",
       "      <td>ant bear</td>\n",
       "      <td>Orycteropus afer</td>\n",
       "    </tr>\n",
       "    <tr>\n",
       "      <th>3</th>\n",
       "      <td>aaron</td>\n",
       "      <td>United States professional baseball player who...</td>\n",
       "      <td>(Old Testament) elder brother of Moses and fir...</td>\n",
       "      <td>Henry Louis Aaron</td>\n",
       "      <td>Aaron</td>\n",
       "      <td>Hank Aaron</td>\n",
       "    </tr>\n",
       "    <tr>\n",
       "      <th>4</th>\n",
       "      <td>aas</td>\n",
       "      <td>an associate degree in applied science</td>\n",
       "      <td>a dry form of lava resembling clinkers; an int...</td>\n",
       "      <td>Associate in Arts</td>\n",
       "      <td>aa</td>\n",
       "      <td>Associate in Applied Science; Alcoholics Anony...</td>\n",
       "    </tr>\n",
       "    <tr>\n",
       "      <th>5</th>\n",
       "      <td>ab</td>\n",
       "      <td>a bachelor's degree in arts and sciences</td>\n",
       "      <td>the eleventh month of the civil year; the fift...</td>\n",
       "      <td>BA</td>\n",
       "      <td>abdominal muscle</td>\n",
       "      <td>Av; AB; type AB; abdominal; group AB; Bachelor...</td>\n",
       "    </tr>\n",
       "    <tr>\n",
       "      <th>6</th>\n",
       "      <td>abaca</td>\n",
       "      <td>a kind of hemp obtained from the abaca plant i...</td>\n",
       "      <td>Philippine banana tree having leafstalks that ...</td>\n",
       "      <td>Manila hemp</td>\n",
       "      <td>Manilla hemp</td>\n",
       "      <td>Musa textilis</td>\n",
       "    </tr>\n",
       "    <tr>\n",
       "      <th>7</th>\n",
       "      <td>abandon</td>\n",
       "      <td>the trait of lacking restraint or control</td>\n",
       "      <td>reckless freedom from inhibition or worry; a f...</td>\n",
       "      <td>give up</td>\n",
       "      <td>desert</td>\n",
       "      <td>forsake; unconstraint; vacate; empty; desolate...</td>\n",
       "    </tr>\n",
       "    <tr>\n",
       "      <th>8</th>\n",
       "      <td>abandoned</td>\n",
       "      <td>forsake, leave behind</td>\n",
       "      <td>give up with the intent of never claiming agai...</td>\n",
       "      <td>uninhabited</td>\n",
       "      <td>give up</td>\n",
       "      <td>desert; forsake; uninhibited; vacate; empty; d...</td>\n",
       "    </tr>\n",
       "    <tr>\n",
       "      <th>9</th>\n",
       "      <td>abandonment</td>\n",
       "      <td>the act of giving something up</td>\n",
       "      <td>withdrawing support or help despite allegiance...</td>\n",
       "      <td>desertion</td>\n",
       "      <td>defection</td>\n",
       "      <td>forsaking</td>\n",
       "    </tr>\n",
       "  </tbody>\n",
       "</table>\n",
       "</div>"
      ],
      "text/plain": [
       "          word                                           meaning1  \\\n",
       "0           aa             a dry form of lava resembling clinkers   \n",
       "1       aachen  a city in western Germany near the Dutch and B...   \n",
       "2     aardvark  nocturnal burrowing mammal of the grasslands o...   \n",
       "3        aaron  United States professional baseball player who...   \n",
       "4          aas             an associate degree in applied science   \n",
       "5           ab           a bachelor's degree in arts and sciences   \n",
       "6        abaca  a kind of hemp obtained from the abaca plant i...   \n",
       "7      abandon          the trait of lacking restraint or control   \n",
       "8    abandoned                              forsake, leave behind   \n",
       "9  abandonment                     the act of giving something up   \n",
       "\n",
       "                                            meaning2           meaning3  \\\n",
       "0  an international organization that provides a ...  Associate in Arts   \n",
       "1     formerly it was Charlemagne's northern capital    Aix-la-Chapelle   \n",
       "2  sole extant representative of the order Tubuli...           anteater   \n",
       "3  (Old Testament) elder brother of Moses and fir...  Henry Louis Aaron   \n",
       "4  a dry form of lava resembling clinkers; an int...  Associate in Arts   \n",
       "5  the eleventh month of the civil year; the fift...                 BA   \n",
       "6  Philippine banana tree having leafstalks that ...        Manila hemp   \n",
       "7  reckless freedom from inhibition or worry; a f...            give up   \n",
       "8  give up with the intent of never claiming agai...        uninhabited   \n",
       "9  withdrawing support or help despite allegiance...          desertion   \n",
       "\n",
       "           meaning4                                           meaning5  \n",
       "0                AA                               Alcoholics Anonymous  \n",
       "1            Aachen                                               Aken  \n",
       "2          ant bear                                   Orycteropus afer  \n",
       "3             Aaron                                         Hank Aaron  \n",
       "4                aa  Associate in Applied Science; Alcoholics Anony...  \n",
       "5  abdominal muscle  Av; AB; type AB; abdominal; group AB; Bachelor...  \n",
       "6      Manilla hemp                                      Musa textilis  \n",
       "7            desert  forsake; unconstraint; vacate; empty; desolate...  \n",
       "8           give up  desert; forsake; uninhibited; vacate; empty; d...  \n",
       "9         defection                                          forsaking  "
      ]
     },
     "execution_count": 22,
     "metadata": {},
     "output_type": "execute_result"
    }
   ],
   "source": [
    "df.head(10)"
   ]
  },
  {
   "cell_type": "code",
   "execution_count": 23,
   "id": "1a2a7186",
   "metadata": {},
   "outputs": [
    {
     "data": {
      "text/html": [
       "<div>\n",
       "<style scoped>\n",
       "    .dataframe tbody tr th:only-of-type {\n",
       "        vertical-align: middle;\n",
       "    }\n",
       "\n",
       "    .dataframe tbody tr th {\n",
       "        vertical-align: top;\n",
       "    }\n",
       "\n",
       "    .dataframe thead th {\n",
       "        text-align: right;\n",
       "    }\n",
       "</style>\n",
       "<table border=\"1\" class=\"dataframe\">\n",
       "  <thead>\n",
       "    <tr style=\"text-align: right;\">\n",
       "      <th></th>\n",
       "      <th>word</th>\n",
       "      <th>meaning1</th>\n",
       "      <th>meaning2</th>\n",
       "      <th>meaning3</th>\n",
       "      <th>meaning4</th>\n",
       "      <th>meaning5</th>\n",
       "    </tr>\n",
       "  </thead>\n",
       "  <tbody>\n",
       "    <tr>\n",
       "      <th>0</th>\n",
       "      <td>aachen</td>\n",
       "      <td>a city in western Germany near the Dutch and B...</td>\n",
       "      <td>formerly it was Charlemagne's northern capital</td>\n",
       "      <td>Aix-la-Chapelle</td>\n",
       "      <td>Aachen</td>\n",
       "      <td>Aken</td>\n",
       "    </tr>\n",
       "    <tr>\n",
       "      <th>1</th>\n",
       "      <td>aardvark</td>\n",
       "      <td>nocturnal burrowing mammal of the grasslands o...</td>\n",
       "      <td>sole extant representative of the order Tubuli...</td>\n",
       "      <td>anteater</td>\n",
       "      <td>ant bear</td>\n",
       "      <td>Orycteropus afer</td>\n",
       "    </tr>\n",
       "    <tr>\n",
       "      <th>2</th>\n",
       "      <td>aaron</td>\n",
       "      <td>United States professional baseball player who...</td>\n",
       "      <td>(Old Testament) elder brother of Moses and fir...</td>\n",
       "      <td>Henry Louis Aaron</td>\n",
       "      <td>Aaron</td>\n",
       "      <td>Hank Aaron</td>\n",
       "    </tr>\n",
       "    <tr>\n",
       "      <th>3</th>\n",
       "      <td>aas</td>\n",
       "      <td>an associate degree in applied science</td>\n",
       "      <td>a dry form of lava resembling clinkers; an int...</td>\n",
       "      <td>Associate in Arts</td>\n",
       "      <td>aa</td>\n",
       "      <td>Associate in Applied Science; Alcoholics Anony...</td>\n",
       "    </tr>\n",
       "    <tr>\n",
       "      <th>4</th>\n",
       "      <td>abaca</td>\n",
       "      <td>a kind of hemp obtained from the abaca plant i...</td>\n",
       "      <td>Philippine banana tree having leafstalks that ...</td>\n",
       "      <td>Manila hemp</td>\n",
       "      <td>Manilla hemp</td>\n",
       "      <td>Musa textilis</td>\n",
       "    </tr>\n",
       "    <tr>\n",
       "      <th>5</th>\n",
       "      <td>abandon</td>\n",
       "      <td>the trait of lacking restraint or control</td>\n",
       "      <td>reckless freedom from inhibition or worry; a f...</td>\n",
       "      <td>give up</td>\n",
       "      <td>desert</td>\n",
       "      <td>forsake; unconstraint; vacate; empty; desolate...</td>\n",
       "    </tr>\n",
       "    <tr>\n",
       "      <th>6</th>\n",
       "      <td>abandoned</td>\n",
       "      <td>forsake, leave behind</td>\n",
       "      <td>give up with the intent of never claiming agai...</td>\n",
       "      <td>uninhabited</td>\n",
       "      <td>give up</td>\n",
       "      <td>desert; forsake; uninhibited; vacate; empty; d...</td>\n",
       "    </tr>\n",
       "    <tr>\n",
       "      <th>7</th>\n",
       "      <td>abandonment</td>\n",
       "      <td>the act of giving something up</td>\n",
       "      <td>withdrawing support or help despite allegiance...</td>\n",
       "      <td>desertion</td>\n",
       "      <td>defection</td>\n",
       "      <td>forsaking</td>\n",
       "    </tr>\n",
       "    <tr>\n",
       "      <th>8</th>\n",
       "      <td>abase</td>\n",
       "      <td>cause to feel shame</td>\n",
       "      <td>hurt the pride of</td>\n",
       "      <td>humble</td>\n",
       "      <td>mortify</td>\n",
       "      <td>chagrin; humiliate</td>\n",
       "    </tr>\n",
       "    <tr>\n",
       "      <th>9</th>\n",
       "      <td>abasement</td>\n",
       "      <td>a low or downcast state</td>\n",
       "      <td>- H.L.Menchken; depriving one of self-esteem</td>\n",
       "      <td>degradation</td>\n",
       "      <td>abjection</td>\n",
       "      <td>humiliation</td>\n",
       "    </tr>\n",
       "    <tr>\n",
       "      <th>10</th>\n",
       "      <td>abashed</td>\n",
       "      <td>cause to be embarrassed</td>\n",
       "      <td>cause to feel self-conscious; feeling or cause...</td>\n",
       "      <td>abash</td>\n",
       "      <td>embarrassed</td>\n",
       "      <td>embarrass; discomposed; chagrined</td>\n",
       "    </tr>\n",
       "    <tr>\n",
       "      <th>11</th>\n",
       "      <td>abate</td>\n",
       "      <td>make less active or intense</td>\n",
       "      <td>become less in amount or intensity</td>\n",
       "      <td>let up</td>\n",
       "      <td>slack off</td>\n",
       "      <td>die away; slake; slack</td>\n",
       "    </tr>\n",
       "    <tr>\n",
       "      <th>12</th>\n",
       "      <td>abatement</td>\n",
       "      <td>an interruption in the intensity or amount of ...</td>\n",
       "      <td>the act of abating</td>\n",
       "      <td>hiatus</td>\n",
       "      <td>suspension</td>\n",
       "      <td>respite; reprieve</td>\n",
       "    </tr>\n",
       "    <tr>\n",
       "      <th>13</th>\n",
       "      <td>abb</td>\n",
       "      <td>an urban hit squad and guerrilla group of the ...</td>\n",
       "      <td>formed in the 1980s</td>\n",
       "      <td>Revolutionary Proletarian Army</td>\n",
       "      <td>Alex Boncayao Brigade</td>\n",
       "      <td>RPA-ABB; ABB</td>\n",
       "    </tr>\n",
       "    <tr>\n",
       "      <th>14</th>\n",
       "      <td>abbreviate</td>\n",
       "      <td>reduce in scope while retaining essential elem...</td>\n",
       "      <td>shorten</td>\n",
       "      <td>reduce</td>\n",
       "      <td>contract</td>\n",
       "      <td>shorten; abridge; cut; foreshorten</td>\n",
       "    </tr>\n",
       "    <tr>\n",
       "      <th>15</th>\n",
       "      <td>abbreviated</td>\n",
       "      <td>reduce in scope while retaining essential elem...</td>\n",
       "      <td>shorten; (of clothing) very short; cut short i...</td>\n",
       "      <td>reduce</td>\n",
       "      <td>short</td>\n",
       "      <td>brief; contract; shorten; truncated; abridge; ...</td>\n",
       "    </tr>\n",
       "    <tr>\n",
       "      <th>16</th>\n",
       "      <td>abcs</td>\n",
       "      <td>the elementary stages of any subject (usually ...</td>\n",
       "      <td>the elementary stages of any subject (usually ...</td>\n",
       "      <td>first rudiment</td>\n",
       "      <td>ABCs</td>\n",
       "      <td>ABC; alphabet; ABC's; rudiment; first principle</td>\n",
       "    </tr>\n",
       "    <tr>\n",
       "      <th>17</th>\n",
       "      <td>abdias</td>\n",
       "      <td>a Hebrew minor prophet</td>\n",
       "      <td>an Old Testament book telling Obadiah's prophe...</td>\n",
       "      <td>Book of Obadiah</td>\n",
       "      <td>Obadiah</td>\n",
       "      <td>Abdias</td>\n",
       "    </tr>\n",
       "    <tr>\n",
       "      <th>18</th>\n",
       "      <td>abdomen</td>\n",
       "      <td>the region of the body of a vertebrate between...</td>\n",
       "      <td>the cavity containing the major viscera; in ma...</td>\n",
       "      <td>belly</td>\n",
       "      <td>stomach</td>\n",
       "      <td>venter; abdominal cavity</td>\n",
       "    </tr>\n",
       "    <tr>\n",
       "      <th>19</th>\n",
       "      <td>abducent</td>\n",
       "      <td>a small motor nerve supplying the lateral rect...</td>\n",
       "      <td>especially of muscles; drawing away from the m...</td>\n",
       "      <td>abducent nerve</td>\n",
       "      <td>abducens</td>\n",
       "      <td>abducting; sixth cranial nerve; abducens nerve...</td>\n",
       "    </tr>\n",
       "  </tbody>\n",
       "</table>\n",
       "</div>"
      ],
      "text/plain": [
       "           word                                           meaning1  \\\n",
       "0        aachen  a city in western Germany near the Dutch and B...   \n",
       "1      aardvark  nocturnal burrowing mammal of the grasslands o...   \n",
       "2         aaron  United States professional baseball player who...   \n",
       "3           aas             an associate degree in applied science   \n",
       "4         abaca  a kind of hemp obtained from the abaca plant i...   \n",
       "5       abandon          the trait of lacking restraint or control   \n",
       "6     abandoned                              forsake, leave behind   \n",
       "7   abandonment                     the act of giving something up   \n",
       "8         abase                                cause to feel shame   \n",
       "9     abasement                            a low or downcast state   \n",
       "10      abashed                            cause to be embarrassed   \n",
       "11        abate                        make less active or intense   \n",
       "12    abatement  an interruption in the intensity or amount of ...   \n",
       "13          abb  an urban hit squad and guerrilla group of the ...   \n",
       "14   abbreviate  reduce in scope while retaining essential elem...   \n",
       "15  abbreviated  reduce in scope while retaining essential elem...   \n",
       "16         abcs  the elementary stages of any subject (usually ...   \n",
       "17       abdias                             a Hebrew minor prophet   \n",
       "18      abdomen  the region of the body of a vertebrate between...   \n",
       "19     abducent  a small motor nerve supplying the lateral rect...   \n",
       "\n",
       "                                             meaning2  \\\n",
       "0      formerly it was Charlemagne's northern capital   \n",
       "1   sole extant representative of the order Tubuli...   \n",
       "2   (Old Testament) elder brother of Moses and fir...   \n",
       "3   a dry form of lava resembling clinkers; an int...   \n",
       "4   Philippine banana tree having leafstalks that ...   \n",
       "5   reckless freedom from inhibition or worry; a f...   \n",
       "6   give up with the intent of never claiming agai...   \n",
       "7   withdrawing support or help despite allegiance...   \n",
       "8                                   hurt the pride of   \n",
       "9        - H.L.Menchken; depriving one of self-esteem   \n",
       "10  cause to feel self-conscious; feeling or cause...   \n",
       "11                 become less in amount or intensity   \n",
       "12                                 the act of abating   \n",
       "13                                formed in the 1980s   \n",
       "14                                            shorten   \n",
       "15  shorten; (of clothing) very short; cut short i...   \n",
       "16  the elementary stages of any subject (usually ...   \n",
       "17  an Old Testament book telling Obadiah's prophe...   \n",
       "18  the cavity containing the major viscera; in ma...   \n",
       "19  especially of muscles; drawing away from the m...   \n",
       "\n",
       "                          meaning3               meaning4  \\\n",
       "0                  Aix-la-Chapelle                 Aachen   \n",
       "1                         anteater               ant bear   \n",
       "2                Henry Louis Aaron                  Aaron   \n",
       "3                Associate in Arts                     aa   \n",
       "4                      Manila hemp           Manilla hemp   \n",
       "5                          give up                 desert   \n",
       "6                      uninhabited                give up   \n",
       "7                        desertion              defection   \n",
       "8                           humble                mortify   \n",
       "9                      degradation              abjection   \n",
       "10                           abash            embarrassed   \n",
       "11                          let up              slack off   \n",
       "12                          hiatus             suspension   \n",
       "13  Revolutionary Proletarian Army  Alex Boncayao Brigade   \n",
       "14                          reduce               contract   \n",
       "15                          reduce                  short   \n",
       "16                  first rudiment                   ABCs   \n",
       "17                 Book of Obadiah                Obadiah   \n",
       "18                           belly                stomach   \n",
       "19                  abducent nerve               abducens   \n",
       "\n",
       "                                             meaning5  \n",
       "0                                                Aken  \n",
       "1                                    Orycteropus afer  \n",
       "2                                          Hank Aaron  \n",
       "3   Associate in Applied Science; Alcoholics Anony...  \n",
       "4                                       Musa textilis  \n",
       "5   forsake; unconstraint; vacate; empty; desolate...  \n",
       "6   desert; forsake; uninhibited; vacate; empty; d...  \n",
       "7                                           forsaking  \n",
       "8                                  chagrin; humiliate  \n",
       "9                                         humiliation  \n",
       "10                  embarrass; discomposed; chagrined  \n",
       "11                             die away; slake; slack  \n",
       "12                                  respite; reprieve  \n",
       "13                                       RPA-ABB; ABB  \n",
       "14                 shorten; abridge; cut; foreshorten  \n",
       "15  brief; contract; shorten; truncated; abridge; ...  \n",
       "16    ABC; alphabet; ABC's; rudiment; first principle  \n",
       "17                                             Abdias  \n",
       "18                           venter; abdominal cavity  \n",
       "19  abducting; sixth cranial nerve; abducens nerve...  "
      ]
     },
     "execution_count": 23,
     "metadata": {},
     "output_type": "execute_result"
    }
   ],
   "source": [
    "#only keep those rows where the length of the word is 5\n",
    "df = df[df['word'].str.len() > 2]\n",
    "df = df.reset_index(drop=True)\n",
    "df.head(20)"
   ]
  },
  {
   "cell_type": "code",
   "execution_count": 24,
   "id": "09749371",
   "metadata": {},
   "outputs": [
    {
     "data": {
      "text/plain": [
       "21440"
      ]
     },
     "execution_count": 24,
     "metadata": {},
     "output_type": "execute_result"
    }
   ],
   "source": [
    "len(df)"
   ]
  },
  {
   "cell_type": "code",
   "execution_count": 25,
   "id": "e3de50c0",
   "metadata": {},
   "outputs": [],
   "source": [
    "for col in df.columns:\n",
    "    df[col] = df[col].str.lower()"
   ]
  },
  {
   "cell_type": "code",
   "execution_count": 26,
   "id": "e504afc0",
   "metadata": {},
   "outputs": [],
   "source": [
    "for column in df.columns:\n",
    "    df[column] = df[column].str.lstrip().str.rstrip()"
   ]
  },
  {
   "cell_type": "code",
   "execution_count": 27,
   "id": "84822919",
   "metadata": {},
   "outputs": [
    {
     "name": "stderr",
     "output_type": "stream",
     "text": [
      "C:\\Users\\Rhea Pandita\\AppData\\Local\\Temp\\ipykernel_22164\\1347059589.py:2: FutureWarning: The default value of regex will change from True to False in a future version.\n",
      "  df[column] = df[column].str.replace(r'[^\\w\\s]+', '')\n"
     ]
    }
   ],
   "source": [
    "for column in df.columns:\n",
    "    df[column] = df[column].str.replace(r'[^\\w\\s]+', '')"
   ]
  },
  {
   "cell_type": "code",
   "execution_count": 28,
   "id": "7041d3cf",
   "metadata": {},
   "outputs": [
    {
     "data": {
      "text/html": [
       "<div>\n",
       "<style scoped>\n",
       "    .dataframe tbody tr th:only-of-type {\n",
       "        vertical-align: middle;\n",
       "    }\n",
       "\n",
       "    .dataframe tbody tr th {\n",
       "        vertical-align: top;\n",
       "    }\n",
       "\n",
       "    .dataframe thead th {\n",
       "        text-align: right;\n",
       "    }\n",
       "</style>\n",
       "<table border=\"1\" class=\"dataframe\">\n",
       "  <thead>\n",
       "    <tr style=\"text-align: right;\">\n",
       "      <th></th>\n",
       "      <th>word</th>\n",
       "      <th>meaning1</th>\n",
       "      <th>meaning2</th>\n",
       "      <th>meaning3</th>\n",
       "      <th>meaning4</th>\n",
       "      <th>meaning5</th>\n",
       "    </tr>\n",
       "  </thead>\n",
       "  <tbody>\n",
       "    <tr>\n",
       "      <th>0</th>\n",
       "      <td>aachen</td>\n",
       "      <td>a city in western germany near the dutch and b...</td>\n",
       "      <td>formerly it was charlemagnes northern capital</td>\n",
       "      <td>aixlachapelle</td>\n",
       "      <td>aachen</td>\n",
       "      <td>aken</td>\n",
       "    </tr>\n",
       "    <tr>\n",
       "      <th>1</th>\n",
       "      <td>aardvark</td>\n",
       "      <td>nocturnal burrowing mammal of the grasslands o...</td>\n",
       "      <td>sole extant representative of the order tubuli...</td>\n",
       "      <td>anteater</td>\n",
       "      <td>ant bear</td>\n",
       "      <td>orycteropus afer</td>\n",
       "    </tr>\n",
       "    <tr>\n",
       "      <th>2</th>\n",
       "      <td>aaron</td>\n",
       "      <td>united states professional baseball player who...</td>\n",
       "      <td>old testament elder brother of moses and first...</td>\n",
       "      <td>henry louis aaron</td>\n",
       "      <td>aaron</td>\n",
       "      <td>hank aaron</td>\n",
       "    </tr>\n",
       "    <tr>\n",
       "      <th>3</th>\n",
       "      <td>aas</td>\n",
       "      <td>an associate degree in applied science</td>\n",
       "      <td>a dry form of lava resembling clinkers an inte...</td>\n",
       "      <td>associate in arts</td>\n",
       "      <td>aa</td>\n",
       "      <td>associate in applied science alcoholics anonym...</td>\n",
       "    </tr>\n",
       "    <tr>\n",
       "      <th>4</th>\n",
       "      <td>abaca</td>\n",
       "      <td>a kind of hemp obtained from the abaca plant i...</td>\n",
       "      <td>philippine banana tree having leafstalks that ...</td>\n",
       "      <td>manila hemp</td>\n",
       "      <td>manilla hemp</td>\n",
       "      <td>musa textilis</td>\n",
       "    </tr>\n",
       "  </tbody>\n",
       "</table>\n",
       "</div>"
      ],
      "text/plain": [
       "       word                                           meaning1  \\\n",
       "0    aachen  a city in western germany near the dutch and b...   \n",
       "1  aardvark  nocturnal burrowing mammal of the grasslands o...   \n",
       "2     aaron  united states professional baseball player who...   \n",
       "3       aas             an associate degree in applied science   \n",
       "4     abaca  a kind of hemp obtained from the abaca plant i...   \n",
       "\n",
       "                                            meaning2           meaning3  \\\n",
       "0      formerly it was charlemagnes northern capital      aixlachapelle   \n",
       "1  sole extant representative of the order tubuli...           anteater   \n",
       "2  old testament elder brother of moses and first...  henry louis aaron   \n",
       "3  a dry form of lava resembling clinkers an inte...  associate in arts   \n",
       "4  philippine banana tree having leafstalks that ...        manila hemp   \n",
       "\n",
       "       meaning4                                           meaning5  \n",
       "0        aachen                                               aken  \n",
       "1      ant bear                                   orycteropus afer  \n",
       "2         aaron                                         hank aaron  \n",
       "3            aa  associate in applied science alcoholics anonym...  \n",
       "4  manilla hemp                                      musa textilis  "
      ]
     },
     "execution_count": 28,
     "metadata": {},
     "output_type": "execute_result"
    }
   ],
   "source": [
    "df.head()"
   ]
  },
  {
   "cell_type": "code",
   "execution_count": 29,
   "id": "fffbbd08",
   "metadata": {},
   "outputs": [],
   "source": [
    "def sentence_wo_token(col):\n",
    "    l1=[]\n",
    "    for j in df[col]:\n",
    "        l1.append(j)\n",
    "    return l1"
   ]
  },
  {
   "cell_type": "code",
   "execution_count": 30,
   "id": "755df996",
   "metadata": {},
   "outputs": [],
   "source": [
    "nontokenized_meaning1=[]\n",
    "nontokenized_meaning1 = sentence_wo_token('meaning1')"
   ]
  },
  {
   "cell_type": "code",
   "execution_count": 31,
   "id": "53362286",
   "metadata": {},
   "outputs": [],
   "source": [
    "nontokenized_meaning2=[]\n",
    "nontokenized_meaning2 = sentence_wo_token('meaning2')"
   ]
  },
  {
   "cell_type": "code",
   "execution_count": 32,
   "id": "071fed9b",
   "metadata": {},
   "outputs": [],
   "source": [
    "nontokenized_meaning3=[]\n",
    "nontokenized_meaning3 = sentence_wo_token('meaning3')"
   ]
  },
  {
   "cell_type": "code",
   "execution_count": 33,
   "id": "ccc77862",
   "metadata": {},
   "outputs": [],
   "source": [
    "nontokenized_meaning4=[]\n",
    "nontokenized_meaning4 = sentence_wo_token('meaning4')"
   ]
  },
  {
   "cell_type": "code",
   "execution_count": 34,
   "id": "f2d34aef",
   "metadata": {},
   "outputs": [],
   "source": [
    "nontokenized_meaning5=[]\n",
    "nontokenized_meaning5 = sentence_wo_token('meaning5')"
   ]
  },
  {
   "cell_type": "code",
   "execution_count": 35,
   "id": "7d872322",
   "metadata": {},
   "outputs": [],
   "source": [
    "from sentence_transformers import SentenceTransformer"
   ]
  },
  {
   "cell_type": "code",
   "execution_count": 36,
   "id": "80d0e2fd",
   "metadata": {},
   "outputs": [
    {
     "name": "stderr",
     "output_type": "stream",
     "text": [
      "C:\\Users\\Rhea Pandita\\anaconda3\\lib\\site-packages\\torch\\_utils.py:776: UserWarning: TypedStorage is deprecated. It will be removed in the future and UntypedStorage will be the only storage class. This should only matter to you if you are using storages directly.  To access UntypedStorage directly, use tensor.untyped_storage() instead of tensor.storage()\n",
      "  return self.fget.__get__(instance, owner)()\n"
     ]
    }
   ],
   "source": [
    "model = SentenceTransformer('bert-base-nli-mean-tokens')"
   ]
  },
  {
   "cell_type": "code",
   "execution_count": 37,
   "id": "89c89e59",
   "metadata": {},
   "outputs": [],
   "source": [
    "embeddings1 = model.encode(nontokenized_meaning1)"
   ]
  },
  {
   "cell_type": "code",
   "execution_count": 38,
   "id": "4d0eb9a0",
   "metadata": {},
   "outputs": [],
   "source": [
    "embedding1_list = []\n",
    "for i in embeddings1:\n",
    "    embedding1_list.append(i)"
   ]
  },
  {
   "cell_type": "code",
   "execution_count": 39,
   "id": "1138d355",
   "metadata": {},
   "outputs": [],
   "source": [
    "df['embedding1'] = embedding1_list"
   ]
  },
  {
   "cell_type": "code",
   "execution_count": 40,
   "id": "8316dce8",
   "metadata": {},
   "outputs": [],
   "source": [
    "embeddings2 = model.encode(nontokenized_meaning2)"
   ]
  },
  {
   "cell_type": "code",
   "execution_count": 41,
   "id": "b09a387c",
   "metadata": {},
   "outputs": [],
   "source": [
    "embedding2_list = []\n",
    "for i in embeddings2:\n",
    "    embedding2_list.append(i)"
   ]
  },
  {
   "cell_type": "code",
   "execution_count": 42,
   "id": "df1be0e1",
   "metadata": {},
   "outputs": [],
   "source": [
    "df['embedding2'] = embedding2_list"
   ]
  },
  {
   "cell_type": "code",
   "execution_count": 43,
   "id": "980782f5",
   "metadata": {},
   "outputs": [],
   "source": [
    "embeddings3 = model.encode(nontokenized_meaning3)"
   ]
  },
  {
   "cell_type": "code",
   "execution_count": 44,
   "id": "0bd589d1",
   "metadata": {},
   "outputs": [],
   "source": [
    "embedding3_list = []\n",
    "for i in embeddings3:\n",
    "    embedding3_list.append(i)"
   ]
  },
  {
   "cell_type": "code",
   "execution_count": 45,
   "id": "667d9e64",
   "metadata": {},
   "outputs": [],
   "source": [
    "df['embedding3'] = embedding3_list"
   ]
  },
  {
   "cell_type": "code",
   "execution_count": 46,
   "id": "f69c6c4c",
   "metadata": {},
   "outputs": [],
   "source": [
    "embeddings4 = model.encode(nontokenized_meaning4)"
   ]
  },
  {
   "cell_type": "code",
   "execution_count": 47,
   "id": "698b123e",
   "metadata": {},
   "outputs": [],
   "source": [
    "embedding4_list = []\n",
    "for i in embeddings4:\n",
    "    embedding4_list.append(i)"
   ]
  },
  {
   "cell_type": "code",
   "execution_count": 48,
   "id": "df2e47ad",
   "metadata": {},
   "outputs": [],
   "source": [
    "df['embedding4'] = embedding4_list"
   ]
  },
  {
   "cell_type": "code",
   "execution_count": 49,
   "id": "0b58d457",
   "metadata": {},
   "outputs": [],
   "source": [
    "embeddings5 = model.encode(nontokenized_meaning5)"
   ]
  },
  {
   "cell_type": "code",
   "execution_count": 50,
   "id": "ea8677a4",
   "metadata": {},
   "outputs": [],
   "source": [
    "embedding5_list = []\n",
    "for i in embeddings5:\n",
    "    embedding5_list.append(i)"
   ]
  },
  {
   "cell_type": "code",
   "execution_count": 51,
   "id": "e2a667be",
   "metadata": {},
   "outputs": [],
   "source": [
    "df['embedding5'] = embedding5_list"
   ]
  },
  {
   "cell_type": "code",
   "execution_count": null,
   "id": "e16e36b0",
   "metadata": {},
   "outputs": [],
   "source": []
  },
  {
   "cell_type": "code",
   "execution_count": 52,
   "id": "fa579cfc",
   "metadata": {},
   "outputs": [],
   "source": [
    "df2 = pd.DataFrame()\n",
    "df2['embedding1'] = embedding1_list\n",
    "df2['embedding2'] = embedding2_list\n",
    "df2['embedding3'] = embedding3_list\n",
    "df2['embedding4'] = embedding4_list\n",
    "df2['embedding5'] = embedding5_list"
   ]
  },
  {
   "cell_type": "code",
   "execution_count": 53,
   "id": "723c298a",
   "metadata": {},
   "outputs": [
    {
     "data": {
      "text/html": [
       "<div>\n",
       "<style scoped>\n",
       "    .dataframe tbody tr th:only-of-type {\n",
       "        vertical-align: middle;\n",
       "    }\n",
       "\n",
       "    .dataframe tbody tr th {\n",
       "        vertical-align: top;\n",
       "    }\n",
       "\n",
       "    .dataframe thead th {\n",
       "        text-align: right;\n",
       "    }\n",
       "</style>\n",
       "<table border=\"1\" class=\"dataframe\">\n",
       "  <thead>\n",
       "    <tr style=\"text-align: right;\">\n",
       "      <th></th>\n",
       "      <th>word</th>\n",
       "      <th>meaning1</th>\n",
       "      <th>meaning2</th>\n",
       "      <th>meaning3</th>\n",
       "      <th>meaning4</th>\n",
       "      <th>meaning5</th>\n",
       "      <th>embedding1</th>\n",
       "      <th>embedding2</th>\n",
       "      <th>embedding3</th>\n",
       "      <th>embedding4</th>\n",
       "      <th>embedding5</th>\n",
       "    </tr>\n",
       "  </thead>\n",
       "  <tbody>\n",
       "    <tr>\n",
       "      <th>0</th>\n",
       "      <td>aachen</td>\n",
       "      <td>a city in western germany near the dutch and b...</td>\n",
       "      <td>formerly it was charlemagnes northern capital</td>\n",
       "      <td>aixlachapelle</td>\n",
       "      <td>aachen</td>\n",
       "      <td>aken</td>\n",
       "      <td>[0.10552966, -0.2111916, -0.042547125, 0.13038...</td>\n",
       "      <td>[-0.7410908, 0.3037946, 1.0067592, -0.03756384...</td>\n",
       "      <td>[-0.70134115, -0.1560492, 1.8670809, 0.0931303...</td>\n",
       "      <td>[-0.42886475, 0.06789703, 2.4393466, 0.1563847...</td>\n",
       "      <td>[-0.14427099, 0.28605372, 1.3342835, 0.1262898...</td>\n",
       "    </tr>\n",
       "    <tr>\n",
       "      <th>1</th>\n",
       "      <td>aardvark</td>\n",
       "      <td>nocturnal burrowing mammal of the grasslands o...</td>\n",
       "      <td>sole extant representative of the order tubuli...</td>\n",
       "      <td>anteater</td>\n",
       "      <td>ant bear</td>\n",
       "      <td>orycteropus afer</td>\n",
       "      <td>[-0.15250994, 0.59140694, -0.34323326, 0.12957...</td>\n",
       "      <td>[-0.04384717, 0.6120334, 0.790435, 0.06521284,...</td>\n",
       "      <td>[0.009730791, 0.496809, 0.41013932, 0.1373665,...</td>\n",
       "      <td>[0.12894955, 1.4916507, -0.31830812, -0.232148...</td>\n",
       "      <td>[0.09932873, -0.13440955, 1.4096322, 0.3468186...</td>\n",
       "    </tr>\n",
       "    <tr>\n",
       "      <th>2</th>\n",
       "      <td>aaron</td>\n",
       "      <td>united states professional baseball player who...</td>\n",
       "      <td>old testament elder brother of moses and first...</td>\n",
       "      <td>henry louis aaron</td>\n",
       "      <td>aaron</td>\n",
       "      <td>hank aaron</td>\n",
       "      <td>[-0.17691979, -0.27761042, -0.4785753, 0.32844...</td>\n",
       "      <td>[0.42689332, 1.4958502, -0.3949241, -0.3236406...</td>\n",
       "      <td>[-0.17629763, 0.86110705, 0.8352665, 0.2713195...</td>\n",
       "      <td>[-0.28148162, 0.32501546, 1.6964121, 0.1526436...</td>\n",
       "      <td>[-0.36929166, 1.0149219, 1.2935079, 0.23599564...</td>\n",
       "    </tr>\n",
       "    <tr>\n",
       "      <th>3</th>\n",
       "      <td>aas</td>\n",
       "      <td>an associate degree in applied science</td>\n",
       "      <td>a dry form of lava resembling clinkers an inte...</td>\n",
       "      <td>associate in arts</td>\n",
       "      <td>aa</td>\n",
       "      <td>associate in applied science alcoholics anonym...</td>\n",
       "      <td>[-0.1955431, 0.28204358, 1.6014135, 0.2948678,...</td>\n",
       "      <td>[-0.5539297, 1.3073884, 0.76646256, 0.10328976...</td>\n",
       "      <td>[-0.20551097, 0.21470872, 1.7353882, 0.3388543...</td>\n",
       "      <td>[0.21038896, 0.10880705, 2.3038127, 0.29001892...</td>\n",
       "      <td>[-0.21374436, 1.316712, 0.68170404, -0.1837967...</td>\n",
       "    </tr>\n",
       "    <tr>\n",
       "      <th>4</th>\n",
       "      <td>abaca</td>\n",
       "      <td>a kind of hemp obtained from the abaca plant i...</td>\n",
       "      <td>philippine banana tree having leafstalks that ...</td>\n",
       "      <td>manila hemp</td>\n",
       "      <td>manilla hemp</td>\n",
       "      <td>musa textilis</td>\n",
       "      <td>[-0.08495724, -1.0941188, 0.16890968, 0.784468...</td>\n",
       "      <td>[-0.24078937, -0.09390615, -0.29544133, 0.4669...</td>\n",
       "      <td>[0.09469901, -0.7468935, 0.6064788, 0.5366701,...</td>\n",
       "      <td>[0.012085825, -1.0377014, 1.0099944, 0.3805281...</td>\n",
       "      <td>[-0.24604101, -0.117436886, 1.4289687, -0.1175...</td>\n",
       "    </tr>\n",
       "  </tbody>\n",
       "</table>\n",
       "</div>"
      ],
      "text/plain": [
       "       word                                           meaning1  \\\n",
       "0    aachen  a city in western germany near the dutch and b...   \n",
       "1  aardvark  nocturnal burrowing mammal of the grasslands o...   \n",
       "2     aaron  united states professional baseball player who...   \n",
       "3       aas             an associate degree in applied science   \n",
       "4     abaca  a kind of hemp obtained from the abaca plant i...   \n",
       "\n",
       "                                            meaning2           meaning3  \\\n",
       "0      formerly it was charlemagnes northern capital      aixlachapelle   \n",
       "1  sole extant representative of the order tubuli...           anteater   \n",
       "2  old testament elder brother of moses and first...  henry louis aaron   \n",
       "3  a dry form of lava resembling clinkers an inte...  associate in arts   \n",
       "4  philippine banana tree having leafstalks that ...        manila hemp   \n",
       "\n",
       "       meaning4                                           meaning5  \\\n",
       "0        aachen                                               aken   \n",
       "1      ant bear                                   orycteropus afer   \n",
       "2         aaron                                         hank aaron   \n",
       "3            aa  associate in applied science alcoholics anonym...   \n",
       "4  manilla hemp                                      musa textilis   \n",
       "\n",
       "                                          embedding1  \\\n",
       "0  [0.10552966, -0.2111916, -0.042547125, 0.13038...   \n",
       "1  [-0.15250994, 0.59140694, -0.34323326, 0.12957...   \n",
       "2  [-0.17691979, -0.27761042, -0.4785753, 0.32844...   \n",
       "3  [-0.1955431, 0.28204358, 1.6014135, 0.2948678,...   \n",
       "4  [-0.08495724, -1.0941188, 0.16890968, 0.784468...   \n",
       "\n",
       "                                          embedding2  \\\n",
       "0  [-0.7410908, 0.3037946, 1.0067592, -0.03756384...   \n",
       "1  [-0.04384717, 0.6120334, 0.790435, 0.06521284,...   \n",
       "2  [0.42689332, 1.4958502, -0.3949241, -0.3236406...   \n",
       "3  [-0.5539297, 1.3073884, 0.76646256, 0.10328976...   \n",
       "4  [-0.24078937, -0.09390615, -0.29544133, 0.4669...   \n",
       "\n",
       "                                          embedding3  \\\n",
       "0  [-0.70134115, -0.1560492, 1.8670809, 0.0931303...   \n",
       "1  [0.009730791, 0.496809, 0.41013932, 0.1373665,...   \n",
       "2  [-0.17629763, 0.86110705, 0.8352665, 0.2713195...   \n",
       "3  [-0.20551097, 0.21470872, 1.7353882, 0.3388543...   \n",
       "4  [0.09469901, -0.7468935, 0.6064788, 0.5366701,...   \n",
       "\n",
       "                                          embedding4  \\\n",
       "0  [-0.42886475, 0.06789703, 2.4393466, 0.1563847...   \n",
       "1  [0.12894955, 1.4916507, -0.31830812, -0.232148...   \n",
       "2  [-0.28148162, 0.32501546, 1.6964121, 0.1526436...   \n",
       "3  [0.21038896, 0.10880705, 2.3038127, 0.29001892...   \n",
       "4  [0.012085825, -1.0377014, 1.0099944, 0.3805281...   \n",
       "\n",
       "                                          embedding5  \n",
       "0  [-0.14427099, 0.28605372, 1.3342835, 0.1262898...  \n",
       "1  [0.09932873, -0.13440955, 1.4096322, 0.3468186...  \n",
       "2  [-0.36929166, 1.0149219, 1.2935079, 0.23599564...  \n",
       "3  [-0.21374436, 1.316712, 0.68170404, -0.1837967...  \n",
       "4  [-0.24604101, -0.117436886, 1.4289687, -0.1175...  "
      ]
     },
     "execution_count": 53,
     "metadata": {},
     "output_type": "execute_result"
    }
   ],
   "source": [
    "df.head()"
   ]
  },
  {
   "cell_type": "code",
   "execution_count": 54,
   "id": "36fe08fa",
   "metadata": {},
   "outputs": [
    {
     "data": {
      "text/plain": [
       "768"
      ]
     },
     "execution_count": 54,
     "metadata": {},
     "output_type": "execute_result"
    }
   ],
   "source": [
    "len(df['embedding1'][0])"
   ]
  },
  {
   "cell_type": "code",
   "execution_count": null,
   "id": "7da30e92",
   "metadata": {},
   "outputs": [],
   "source": []
  },
  {
   "cell_type": "code",
   "execution_count": 55,
   "id": "3fb8d13f",
   "metadata": {},
   "outputs": [],
   "source": [
    "import numpy as np"
   ]
  },
  {
   "cell_type": "code",
   "execution_count": 56,
   "id": "86d0d762",
   "metadata": {},
   "outputs": [],
   "source": [
    "def cosine(u, v):\n",
    "    return np.dot(u, v) / (np.linalg.norm(u) * np.linalg.norm(v))"
   ]
  },
  {
   "cell_type": "code",
   "execution_count": 57,
   "id": "b2863f21",
   "metadata": {},
   "outputs": [],
   "source": [
    "import random\n",
    "index = random.randint(0,len(df))"
   ]
  },
  {
   "cell_type": "code",
   "execution_count": 58,
   "id": "99a04931",
   "metadata": {},
   "outputs": [],
   "source": [
    "query = df[\"word\"][index]\n",
    "query_vec = model.encode([query])[0]"
   ]
  },
  {
   "cell_type": "code",
   "execution_count": 59,
   "id": "464dfd65",
   "metadata": {},
   "outputs": [],
   "source": [
    "final_list = []"
   ]
  },
  {
   "cell_type": "code",
   "execution_count": 60,
   "id": "6985e40d",
   "metadata": {},
   "outputs": [],
   "source": [
    "match = {}\n",
    "for index,sent in enumerate(df['embedding1']):\n",
    "    sim = cosine(query_vec, sent)\n",
    "    #print(\"Sent = \", sent, \"; similarity = \", sim)\n",
    "    \n",
    "    if sim>0.75:\n",
    "        match[index]=sim"
   ]
  },
  {
   "cell_type": "code",
   "execution_count": 61,
   "id": "501c1711",
   "metadata": {},
   "outputs": [
    {
     "name": "stdout",
     "output_type": "stream",
     "text": [
      "7\n",
      "[1326, 15848, 12279, 12282, 12283, 6220, 5935]\n"
     ]
    }
   ],
   "source": [
    "print(len(match))\n",
    "\n",
    "s_match1 = sorted(match.items(), key=lambda x: x[1], reverse=True)\n",
    "# Extract keys of the top 10 highest values\n",
    "top_10_keys1 = [item[0] for item in s_match1[:10]]\n",
    "print(top_10_keys1)"
   ]
  },
  {
   "cell_type": "code",
   "execution_count": 62,
   "id": "d9fd0e44",
   "metadata": {},
   "outputs": [
    {
     "name": "stdout",
     "output_type": "stream",
     "text": [
      "automotive\n",
      "ride\n",
      "motored\n",
      "motorize\n",
      "motorized\n",
      "electric\n",
      "driven\n"
     ]
    }
   ],
   "source": [
    "for i in top_10_keys1:\n",
    "    print(df['word'][i])\n",
    "    final_list.append(df['word'][i])"
   ]
  },
  {
   "cell_type": "code",
   "execution_count": 63,
   "id": "0a4c5f05",
   "metadata": {},
   "outputs": [],
   "source": [
    "match2 = {}\n",
    "for index,sent in enumerate(df['embedding2']):\n",
    "    sim = cosine(query_vec, sent)\n",
    "    #print(\"Sent = \", sent, \"; similarity = \", sim)\n",
    "    \n",
    "    if sim>0.75:\n",
    "        match2[index]=sim"
   ]
  },
  {
   "cell_type": "code",
   "execution_count": 64,
   "id": "39acf668",
   "metadata": {},
   "outputs": [
    {
     "name": "stdout",
     "output_type": "stream",
     "text": [
      "0\n",
      "[]\n"
     ]
    }
   ],
   "source": [
    "print(len(match2))\n",
    "\n",
    "s_match2 = sorted(match2.items(), key=lambda x: x[1], reverse=True)\n",
    "top_10_keys2 = [item[0] for item in s_match2[:10]]\n",
    "print(top_10_keys2)"
   ]
  },
  {
   "cell_type": "code",
   "execution_count": 65,
   "id": "bf4f926c",
   "metadata": {},
   "outputs": [],
   "source": [
    "for i in top_10_keys2:\n",
    "    print(df['word'][i])\n",
    "    final_list.append(df['word'][i])"
   ]
  },
  {
   "cell_type": "code",
   "execution_count": 66,
   "id": "c06c57ad",
   "metadata": {},
   "outputs": [],
   "source": [
    "match3 = {}\n",
    "for sindex,sent in enumerate(df['embedding3']):\n",
    "    sim = cosine(query_vec, sent)\n",
    "    #print(\"Sent = \", sent, \"; similarity = \", sim)\n",
    "    \n",
    "    if sim>0.75:\n",
    "        match3[index]=sim"
   ]
  },
  {
   "cell_type": "code",
   "execution_count": 67,
   "id": "46702cfc",
   "metadata": {},
   "outputs": [
    {
     "name": "stdout",
     "output_type": "stream",
     "text": [
      "1\n",
      "[21439]\n"
     ]
    }
   ],
   "source": [
    "print(len(match3))\n",
    "\n",
    "s_match3 = sorted(match3.items(), key=lambda x: x[1], reverse=True)\n",
    "top_10_keys3 = [item[0] for item in s_match3[:10]]\n",
    "print(top_10_keys3)"
   ]
  },
  {
   "cell_type": "code",
   "execution_count": 68,
   "id": "faebb406",
   "metadata": {},
   "outputs": [
    {
     "name": "stdout",
     "output_type": "stream",
     "text": [
      "zymosis\n"
     ]
    }
   ],
   "source": [
    "for i in top_10_keys3:\n",
    "    print(df['word'][i])\n",
    "    final_list.append(df['word'][i])"
   ]
  },
  {
   "cell_type": "code",
   "execution_count": 69,
   "id": "533e5efe",
   "metadata": {},
   "outputs": [],
   "source": [
    "match4 = {}\n",
    "for index,sent in enumerate(df['embedding4']):\n",
    "    sim = cosine(query_vec, sent)\n",
    "    #print(\"Sent = \", sent, \"; similarity = \", sim)\n",
    "    \n",
    "    if sim>0.75:\n",
    "        match4[index]=sim"
   ]
  },
  {
   "cell_type": "code",
   "execution_count": 70,
   "id": "0e9fb7c2",
   "metadata": {},
   "outputs": [
    {
     "name": "stdout",
     "output_type": "stream",
     "text": [
      "27\n",
      "[11363, 15019, 1317, 1325, 9125, 12275, 5237, 12284, 5932, 6039]\n"
     ]
    }
   ],
   "source": [
    "print(len(match4))\n",
    "\n",
    "s_match4 = sorted(match4.items(), key=lambda x: x[1], reverse=True)\n",
    "top_10_keys4 = [item[0] for item in s_match4[:10]]\n",
    "print(top_10_keys4)"
   ]
  },
  {
   "cell_type": "code",
   "execution_count": 71,
   "id": "a6d03b65",
   "metadata": {},
   "outputs": [
    {
     "name": "stdout",
     "output_type": "stream",
     "text": [
      "machine\n",
      "racer\n",
      "auto\n",
      "automobile\n",
      "horn\n",
      "motorcar\n",
      "detroit\n",
      "motown\n",
      "drive\n",
      "dynamic\n"
     ]
    }
   ],
   "source": [
    "for i in top_10_keys4:\n",
    "    print(df['word'][i])\n",
    "    final_list.append(df['word'][i])"
   ]
  },
  {
   "cell_type": "code",
   "execution_count": 72,
   "id": "e8b18f03",
   "metadata": {},
   "outputs": [],
   "source": [
    "match5 = {}\n",
    "for index,sent in enumerate(df['embedding5']):\n",
    "    sim = cosine(query_vec, sent)\n",
    "    #print(\"Sent = \", sent, \"; similarity = \", sim)\n",
    "    \n",
    "    if sim>0.75:\n",
    "        match5[index]=sim"
   ]
  },
  {
   "cell_type": "code",
   "execution_count": 73,
   "id": "f40af076",
   "metadata": {},
   "outputs": [
    {
     "name": "stdout",
     "output_type": "stream",
     "text": [
      "5\n",
      "[1317, 1325, 12275, 16040, 3135]\n"
     ]
    }
   ],
   "source": [
    "print(len(match5))\n",
    "\n",
    "s_match5 = sorted(match5.items(), key=lambda x: x[1], reverse=True)\n",
    "top_10_keys5 = [item[0] for item in s_match5[:10]]\n",
    "print(top_10_keys5)"
   ]
  },
  {
   "cell_type": "code",
   "execution_count": 74,
   "id": "e76fab10",
   "metadata": {},
   "outputs": [
    {
     "name": "stdout",
     "output_type": "stream",
     "text": [
      "auto\n",
      "automobile\n",
      "motorcar\n",
      "route\n",
      "changer\n"
     ]
    }
   ],
   "source": [
    "for i in top_10_keys5:\n",
    "    print(df['word'][i])\n",
    "    final_list.append(df['word'][i])"
   ]
  },
  {
   "cell_type": "code",
   "execution_count": 75,
   "id": "dce17634",
   "metadata": {},
   "outputs": [
    {
     "name": "stdout",
     "output_type": "stream",
     "text": [
      "automobile\n"
     ]
    }
   ],
   "source": [
    "print(query)"
   ]
  },
  {
   "cell_type": "code",
   "execution_count": 76,
   "id": "d306b577",
   "metadata": {},
   "outputs": [
    {
     "name": "stdout",
     "output_type": "stream",
     "text": [
      "['auto', 'automotive', 'changer', 'detroit', 'drive', 'driven', 'dynamic', 'electric', 'horn', 'machine', 'motorcar', 'motored', 'motorize', 'motorized', 'motown', 'racer', 'ride', 'route', 'zymosis']\n"
     ]
    }
   ],
   "source": [
    "final_list = sorted(list(set(final_list)))\n",
    "if query in final_list:\n",
    "    final_list.remove(query)\n",
    "print(final_list)"
   ]
  },
  {
   "cell_type": "code",
   "execution_count": 77,
   "id": "860875fc",
   "metadata": {},
   "outputs": [],
   "source": [
    "length = len(final_list)\n",
    "list_for_hint = []\n",
    "for i in range(5):\n",
    "    random_index = random.randint(0,length-1)\n",
    "    if final_list[random_index] not in list_for_hint:\n",
    "        list_for_hint.append(final_list[random_index])"
   ]
  },
  {
   "cell_type": "code",
   "execution_count": 78,
   "id": "b5f93d47",
   "metadata": {},
   "outputs": [
    {
     "name": "stdout",
     "output_type": "stream",
     "text": [
      "['ride', 'motorcar', 'electric']\n"
     ]
    }
   ],
   "source": [
    "print(list_for_hint)"
   ]
  },
  {
   "cell_type": "code",
   "execution_count": 79,
   "id": "fc4dafed",
   "metadata": {},
   "outputs": [],
   "source": [
    "df = df.drop(['embedding1','embedding2','embedding3','embedding4','embedding5'],axis=1)"
   ]
  },
  {
   "cell_type": "code",
   "execution_count": 80,
   "id": "c9e5f6c7",
   "metadata": {},
   "outputs": [],
   "source": [
    "df.to_csv('wordle_dataset.csv')"
   ]
  },
  {
   "cell_type": "code",
   "execution_count": 81,
   "id": "f70891cd",
   "metadata": {},
   "outputs": [],
   "source": [
    "import pickle\n",
    "file=open(\"bert_embeddings.bin\",\"wb\")\n",
    "pickle.dump(df2,file)\n",
    "file.close()"
   ]
  },
  {
   "cell_type": "code",
   "execution_count": null,
   "id": "07164f64",
   "metadata": {},
   "outputs": [],
   "source": []
  },
  {
   "cell_type": "code",
   "execution_count": null,
   "id": "6552039c",
   "metadata": {},
   "outputs": [],
   "source": []
  },
  {
   "cell_type": "code",
   "execution_count": null,
   "id": "a730d3f3",
   "metadata": {},
   "outputs": [],
   "source": []
  },
  {
   "cell_type": "code",
   "execution_count": null,
   "id": "c4a3eeb1",
   "metadata": {},
   "outputs": [],
   "source": []
  },
  {
   "cell_type": "code",
   "execution_count": null,
   "id": "bd0c26be",
   "metadata": {},
   "outputs": [],
   "source": []
  },
  {
   "cell_type": "code",
   "execution_count": null,
   "id": "a1e4fbf6",
   "metadata": {},
   "outputs": [],
   "source": []
  },
  {
   "cell_type": "code",
   "execution_count": null,
   "id": "36b07c30",
   "metadata": {},
   "outputs": [],
   "source": []
  },
  {
   "cell_type": "code",
   "execution_count": null,
   "id": "4c36a5e1",
   "metadata": {},
   "outputs": [],
   "source": []
  },
  {
   "cell_type": "code",
   "execution_count": null,
   "id": "dcf6ab66",
   "metadata": {},
   "outputs": [],
   "source": []
  },
  {
   "cell_type": "code",
   "execution_count": null,
   "id": "8af3fcef",
   "metadata": {},
   "outputs": [],
   "source": []
  },
  {
   "cell_type": "code",
   "execution_count": null,
   "id": "91a38cf0",
   "metadata": {},
   "outputs": [],
   "source": []
  },
  {
   "cell_type": "code",
   "execution_count": null,
   "id": "fbaf21fb",
   "metadata": {},
   "outputs": [],
   "source": []
  },
  {
   "cell_type": "code",
   "execution_count": null,
   "id": "6c9b9f87",
   "metadata": {},
   "outputs": [],
   "source": []
  }
 ],
 "metadata": {
  "kernelspec": {
   "display_name": "Python 3 (ipykernel)",
   "language": "python",
   "name": "python3"
  },
  "language_info": {
   "codemirror_mode": {
    "name": "ipython",
    "version": 3
   },
   "file_extension": ".py",
   "mimetype": "text/x-python",
   "name": "python",
   "nbconvert_exporter": "python",
   "pygments_lexer": "ipython3",
   "version": "3.10.9"
  }
 },
 "nbformat": 4,
 "nbformat_minor": 5
}
